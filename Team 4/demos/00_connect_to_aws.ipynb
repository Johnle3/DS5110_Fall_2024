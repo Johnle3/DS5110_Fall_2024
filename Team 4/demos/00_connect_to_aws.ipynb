{
 "cells": [
  {
   "cell_type": "markdown",
   "metadata": {},
   "source": [
    "# Objective\n",
    "\n",
    "This notebook shows the connection to AWS and a Hello World with some of the services used\n",
    "\n",
    "1) S3\n",
    "2) Lambda (try the hello world from midterm)\n",
    "3) Cloud Watch\n",
    "\n",
    "To connect a key was made using IAM, and put into a local `.env` file, the credentials are temporary and will expire in 30 days. Care should be used when making these and different keys used for dev and prod.\n",
    "\n",
    "\n",
    "* outside POC environment consider different security practices such as SSO \n"
   ]
  },
  {
   "cell_type": "code",
   "execution_count": 14,
   "metadata": {},
   "outputs": [],
   "source": [
    "# include in req\n",
    "# !pip install pandas as pd\n",
    "# !pip install pydot\n",
    "# !pip install python-dotenv"
   ]
  },
  {
   "cell_type": "code",
   "execution_count": 15,
   "metadata": {},
   "outputs": [
    {
     "name": "stdout",
     "output_type": "stream",
     "text": [
      "3.11.8 (v3.11.8:db85d51d3e, Feb  6 2024, 18:02:37) [Clang 13.0.0 (clang-1300.0.29.30)]\n"
     ]
    }
   ],
   "source": [
    "import sys\n",
    "\n",
    "import boto3\n",
    "from dotenv import dotenv_values\n",
    "import pandas as pd\n",
    "\n",
    "config = dotenv_values(\"../.env\") \n",
    "\n",
    "print(sys.version)"
   ]
  },
  {
   "cell_type": "markdown",
   "metadata": {},
   "source": [
    "### Initialize Services"
   ]
  },
  {
   "cell_type": "code",
   "execution_count": 16,
   "metadata": {},
   "outputs": [],
   "source": [
    "# Initialize a session using aws cred\n",
    "session = boto3.Session(aws_access_key_id=config[\"aws_access_key_id\"],\n",
    "                        aws_secret_access_key=config[\"aws_secret_access_key\"],\n",
    "                        region_name=config[\"region\"])\n",
    "\n",
    "s3 = session.client('s3')\n",
    "lamda_func = session.client(\"lambda\")\n",
    "cloudwatch = session.client('logs')"
   ]
  },
  {
   "cell_type": "markdown",
   "metadata": {},
   "source": [
    "### Test S3 Connection"
   ]
  },
  {
   "cell_type": "code",
   "execution_count": 17,
   "metadata": {},
   "outputs": [
    {
     "data": {
      "text/plain": [
       "['aws-athena-query-results-211125778552-us-east-1',\n",
       " 'cosmicai-data',\n",
       " 'cosmicai2',\n",
       " 'fmi-lambda-demo',\n",
       " 'group2-s3-bucket',\n",
       " 'group4-s3-bucket',\n",
       " 'sagemaker-studio-211125778552-3zpozdpwzcx',\n",
       " 'sagemaker-studio-211125778552-rrp76qgcj1n',\n",
       " 'sagemaker-us-east-1-211125778552',\n",
       " 'team-one-cosmic-data',\n",
       " 'team-one-s3-cosmic',\n",
       " 'team2cosmicai',\n",
       " 'team3cosmicai',\n",
       " 'team4-cosmicai']"
      ]
     },
     "execution_count": 17,
     "metadata": {},
     "output_type": "execute_result"
    }
   ],
   "source": [
    "d = s3.list_buckets()\n",
    "\n",
    "# show current buckets\n",
    "b = [n[\"Name\"] for n in d[\"Buckets\"]]\n",
    "\n",
    "\n",
    "# validate folders needed in connection\n",
    "# also a test in /tests\n",
    "\n",
    "assert 'fmi-lambda-demo' in b, \"missing the lambda demo\" # midterm\n",
    "assert 'team4-cosmicai' in b, \"missing our team4 cosmicai S3 connection\" \n",
    "\n",
    "b"
   ]
  },
  {
   "cell_type": "markdown",
   "metadata": {},
   "source": [
    "To pull log events, the stream is needed, to pull the stream the group is needed, broadly\n",
    "\n",
    "```mermaid\n",
    "graph TD\n",
    "    A[Log Groups] --> B[Log Streams]\n",
    "    B --> C[Log Events]\n",
    "```\n",
    "\n",
    "***\n",
    "\n",
    "### Log Groups\n"
   ]
  },
  {
   "cell_type": "code",
   "execution_count": 18,
   "metadata": {},
   "outputs": [
    {
     "data": {
      "text/html": [
       "<div>\n",
       "<style scoped>\n",
       "    .dataframe tbody tr th:only-of-type {\n",
       "        vertical-align: middle;\n",
       "    }\n",
       "\n",
       "    .dataframe tbody tr th {\n",
       "        vertical-align: top;\n",
       "    }\n",
       "\n",
       "    .dataframe thead th {\n",
       "        text-align: right;\n",
       "    }\n",
       "</style>\n",
       "<table border=\"1\" class=\"dataframe\">\n",
       "  <thead>\n",
       "    <tr style=\"text-align: right;\">\n",
       "      <th></th>\n",
       "      <th>log_group_names</th>\n",
       "    </tr>\n",
       "  </thead>\n",
       "  <tbody>\n",
       "    <tr>\n",
       "      <th>0</th>\n",
       "      <td>/aws-glue/column-statistics</td>\n",
       "    </tr>\n",
       "    <tr>\n",
       "      <th>1</th>\n",
       "      <td>/aws-glue/jobs/error</td>\n",
       "    </tr>\n",
       "    <tr>\n",
       "      <th>2</th>\n",
       "      <td>/aws-glue/jobs/output</td>\n",
       "    </tr>\n",
       "    <tr>\n",
       "      <th>3</th>\n",
       "      <td>/aws-glue/sessions/error</td>\n",
       "    </tr>\n",
       "    <tr>\n",
       "      <th>4</th>\n",
       "      <td>/aws-glue/sessions/output</td>\n",
       "    </tr>\n",
       "    <tr>\n",
       "      <th>5</th>\n",
       "      <td>/aws-glue/testconnection/error/Redo</td>\n",
       "    </tr>\n",
       "    <tr>\n",
       "      <th>6</th>\n",
       "      <td>/aws-glue/testconnection/error/Redshift_connec...</td>\n",
       "    </tr>\n",
       "    <tr>\n",
       "      <th>7</th>\n",
       "      <td>/aws-glue/testconnection/error/team3-con</td>\n",
       "    </tr>\n",
       "    <tr>\n",
       "      <th>8</th>\n",
       "      <td>/aws-glue/testconnection/output/Redo</td>\n",
       "    </tr>\n",
       "    <tr>\n",
       "      <th>9</th>\n",
       "      <td>/aws-glue/testconnection/output/Redshift_conne...</td>\n",
       "    </tr>\n",
       "    <tr>\n",
       "      <th>10</th>\n",
       "      <td>/aws-glue/testconnection/output/team3-con</td>\n",
       "    </tr>\n",
       "    <tr>\n",
       "      <th>11</th>\n",
       "      <td>/aws/lambda/FecDataLoader</td>\n",
       "    </tr>\n",
       "    <tr>\n",
       "      <th>12</th>\n",
       "      <td>/aws/lambda/FecS3DataLoader</td>\n",
       "    </tr>\n",
       "    <tr>\n",
       "      <th>13</th>\n",
       "      <td>/aws/lambda/Team8FecAthenaQuery</td>\n",
       "    </tr>\n",
       "    <tr>\n",
       "      <th>14</th>\n",
       "      <td>/aws/lambda/Team8FecAthenaQueryInvoker</td>\n",
       "    </tr>\n",
       "    <tr>\n",
       "      <th>15</th>\n",
       "      <td>/aws/lambda/aws-controltower-NotificationForwa...</td>\n",
       "    </tr>\n",
       "    <tr>\n",
       "      <th>16</th>\n",
       "      <td>/aws/lambda/cosmic-executor</td>\n",
       "    </tr>\n",
       "    <tr>\n",
       "      <th>17</th>\n",
       "      <td>/aws/lambda/cosmic-init</td>\n",
       "    </tr>\n",
       "    <tr>\n",
       "      <th>18</th>\n",
       "      <td>/aws/lambda/data-parallel-init</td>\n",
       "    </tr>\n",
       "    <tr>\n",
       "      <th>19</th>\n",
       "      <td>/aws/lambda/demo</td>\n",
       "    </tr>\n",
       "    <tr>\n",
       "      <th>20</th>\n",
       "      <td>/aws/lambda/fmi_executor</td>\n",
       "    </tr>\n",
       "    <tr>\n",
       "      <th>21</th>\n",
       "      <td>/aws/lambda/fmi_init</td>\n",
       "    </tr>\n",
       "    <tr>\n",
       "      <th>22</th>\n",
       "      <td>/aws/lambda/helloWorld</td>\n",
       "    </tr>\n",
       "    <tr>\n",
       "      <th>23</th>\n",
       "      <td>/aws/lambda/resultSummary</td>\n",
       "    </tr>\n",
       "    <tr>\n",
       "      <th>24</th>\n",
       "      <td>/aws/lambda/team3-data-crawler</td>\n",
       "    </tr>\n",
       "  </tbody>\n",
       "</table>\n",
       "</div>"
      ],
      "text/plain": [
       "                                      log_group_names\n",
       "0                         /aws-glue/column-statistics\n",
       "1                                /aws-glue/jobs/error\n",
       "2                               /aws-glue/jobs/output\n",
       "3                            /aws-glue/sessions/error\n",
       "4                           /aws-glue/sessions/output\n",
       "5                 /aws-glue/testconnection/error/Redo\n",
       "6   /aws-glue/testconnection/error/Redshift_connec...\n",
       "7            /aws-glue/testconnection/error/team3-con\n",
       "8                /aws-glue/testconnection/output/Redo\n",
       "9   /aws-glue/testconnection/output/Redshift_conne...\n",
       "10          /aws-glue/testconnection/output/team3-con\n",
       "11                          /aws/lambda/FecDataLoader\n",
       "12                        /aws/lambda/FecS3DataLoader\n",
       "13                    /aws/lambda/Team8FecAthenaQuery\n",
       "14             /aws/lambda/Team8FecAthenaQueryInvoker\n",
       "15  /aws/lambda/aws-controltower-NotificationForwa...\n",
       "16                        /aws/lambda/cosmic-executor\n",
       "17                            /aws/lambda/cosmic-init\n",
       "18                     /aws/lambda/data-parallel-init\n",
       "19                                   /aws/lambda/demo\n",
       "20                           /aws/lambda/fmi_executor\n",
       "21                               /aws/lambda/fmi_init\n",
       "22                             /aws/lambda/helloWorld\n",
       "23                          /aws/lambda/resultSummary\n",
       "24                     /aws/lambda/team3-data-crawler"
      ]
     },
     "execution_count": 18,
     "metadata": {},
     "output_type": "execute_result"
    }
   ],
   "source": [
    "\n",
    "l = []\n",
    "r = cloudwatch.describe_log_groups()\n",
    "\n",
    "for group in r['logGroups']:\n",
    "     l.append(group['logGroupName'])\n",
    "\n",
    "df_log_groups = pd.DataFrame(l, columns=[\"log_group_names\"])\n",
    "\n",
    "# general if needed\n",
    "df_log_groups[df_log_groups.log_group_names.str.contains(\"(?!.*sagemaker).*\")].head(25) # don't include sagemaker, many instances related to labs\n",
    "\n",
    "# may be interested in the cosmic ai logs\n",
    "# df_log_groups[df_log_groups.log_group_names.str.contains(\"cosmic\")]\n"
   ]
  },
  {
   "cell_type": "markdown",
   "metadata": {},
   "source": [
    "### Log Streams\n",
    "***"
   ]
  },
  {
   "cell_type": "code",
   "execution_count": 19,
   "metadata": {},
   "outputs": [],
   "source": [
    "LOG_GROUP = \"/aws/lambda/data-parallel-init\"\n",
    "\n",
    "l = []\n",
    "\n",
    "r = cloudwatch.describe_log_streams(logGroupName=LOG_GROUP)\n",
    "for stream in r['logStreams']:\n",
    "    l.append(stream['logStreamName'])\n",
    "\n",
    "df_log_streams_raw = pd.DataFrame(l, columns=[\"raw_streams\"])"
   ]
  },
  {
   "cell_type": "code",
   "execution_count": 20,
   "metadata": {},
   "outputs": [
    {
     "data": {
      "text/plain": [
       "'2024/11/22/[$LATEST]0eaeff78011e4031a381ecc431f1b26a'"
      ]
     },
     "execution_count": 20,
     "metadata": {},
     "output_type": "execute_result"
    }
   ],
   "source": [
    "# what a stream name should look like\n",
    "df_log_streams_raw.iloc[-10].values[0]"
   ]
  },
  {
   "cell_type": "code",
   "execution_count": 21,
   "metadata": {},
   "outputs": [
    {
     "data": {
      "text/html": [
       "<div>\n",
       "<style scoped>\n",
       "    .dataframe tbody tr th:only-of-type {\n",
       "        vertical-align: middle;\n",
       "    }\n",
       "\n",
       "    .dataframe tbody tr th {\n",
       "        vertical-align: top;\n",
       "    }\n",
       "\n",
       "    .dataframe thead th {\n",
       "        text-align: right;\n",
       "    }\n",
       "</style>\n",
       "<table border=\"1\" class=\"dataframe\">\n",
       "  <thead>\n",
       "    <tr style=\"text-align: right;\">\n",
       "      <th></th>\n",
       "      <th>date_pulled</th>\n",
       "      <th>stream_hash</th>\n",
       "    </tr>\n",
       "  </thead>\n",
       "  <tbody>\n",
       "    <tr>\n",
       "      <th>0</th>\n",
       "      <td>2024/11/07/</td>\n",
       "      <td>0fcf0e06f1174a16aca0adba257efc84</td>\n",
       "    </tr>\n",
       "    <tr>\n",
       "      <th>1</th>\n",
       "      <td>2024/11/07/</td>\n",
       "      <td>1738a628c5cf4796b51d6c481da4b746</td>\n",
       "    </tr>\n",
       "    <tr>\n",
       "      <th>2</th>\n",
       "      <td>2024/11/07/</td>\n",
       "      <td>27d9c7e9e6464016b8dfdd647c214fb5</td>\n",
       "    </tr>\n",
       "    <tr>\n",
       "      <th>3</th>\n",
       "      <td>2024/11/07/</td>\n",
       "      <td>6a1b2157e1c6436db3bdc4e740fd2f41</td>\n",
       "    </tr>\n",
       "    <tr>\n",
       "      <th>4</th>\n",
       "      <td>2024/11/20/</td>\n",
       "      <td>0d836483f503404fa3ad3d332da2f8c4</td>\n",
       "    </tr>\n",
       "    <tr>\n",
       "      <th>5</th>\n",
       "      <td>2024/11/20/</td>\n",
       "      <td>344f2b0cdf904d4a9dce3aba4e7158e3</td>\n",
       "    </tr>\n",
       "    <tr>\n",
       "      <th>6</th>\n",
       "      <td>2024/11/20/</td>\n",
       "      <td>586ddf9995cd4000a65778d5853521c8</td>\n",
       "    </tr>\n",
       "    <tr>\n",
       "      <th>7</th>\n",
       "      <td>2024/11/22/</td>\n",
       "      <td>0eaeff78011e4031a381ecc431f1b26a</td>\n",
       "    </tr>\n",
       "    <tr>\n",
       "      <th>8</th>\n",
       "      <td>2024/11/22/</td>\n",
       "      <td>272db91f41c1428e988f3084f113f535</td>\n",
       "    </tr>\n",
       "    <tr>\n",
       "      <th>9</th>\n",
       "      <td>2024/11/22/</td>\n",
       "      <td>3dd38b8393f848bfaff52e67b369a996</td>\n",
       "    </tr>\n",
       "    <tr>\n",
       "      <th>10</th>\n",
       "      <td>2024/11/22/</td>\n",
       "      <td>537e518aa421415199fd61c08b676382</td>\n",
       "    </tr>\n",
       "    <tr>\n",
       "      <th>11</th>\n",
       "      <td>2024/11/22/</td>\n",
       "      <td>91d65fb1bbdc4b16bfceefa75c1baecc</td>\n",
       "    </tr>\n",
       "    <tr>\n",
       "      <th>12</th>\n",
       "      <td>2024/11/22/</td>\n",
       "      <td>f694b993c8e64b21a864193e0e067f44</td>\n",
       "    </tr>\n",
       "    <tr>\n",
       "      <th>13</th>\n",
       "      <td>2024/11/22/</td>\n",
       "      <td>fdf2cc3435ef4ae99854712c81ad7324</td>\n",
       "    </tr>\n",
       "    <tr>\n",
       "      <th>14</th>\n",
       "      <td>2024/11/23/</td>\n",
       "      <td>d434d74491e34da49ddba35d689823ab</td>\n",
       "    </tr>\n",
       "    <tr>\n",
       "      <th>15</th>\n",
       "      <td>2024/11/23/</td>\n",
       "      <td>e2d81545a6c340d8aafec45e4c4e086e</td>\n",
       "    </tr>\n",
       "    <tr>\n",
       "      <th>16</th>\n",
       "      <td>2024/11/24/</td>\n",
       "      <td>8987c526cf4b4570b7e38790e2a97578</td>\n",
       "    </tr>\n",
       "  </tbody>\n",
       "</table>\n",
       "</div>"
      ],
      "text/plain": [
       "    date_pulled                       stream_hash\n",
       "0   2024/11/07/  0fcf0e06f1174a16aca0adba257efc84\n",
       "1   2024/11/07/  1738a628c5cf4796b51d6c481da4b746\n",
       "2   2024/11/07/  27d9c7e9e6464016b8dfdd647c214fb5\n",
       "3   2024/11/07/  6a1b2157e1c6436db3bdc4e740fd2f41\n",
       "4   2024/11/20/  0d836483f503404fa3ad3d332da2f8c4\n",
       "5   2024/11/20/  344f2b0cdf904d4a9dce3aba4e7158e3\n",
       "6   2024/11/20/  586ddf9995cd4000a65778d5853521c8\n",
       "7   2024/11/22/  0eaeff78011e4031a381ecc431f1b26a\n",
       "8   2024/11/22/  272db91f41c1428e988f3084f113f535\n",
       "9   2024/11/22/  3dd38b8393f848bfaff52e67b369a996\n",
       "10  2024/11/22/  537e518aa421415199fd61c08b676382\n",
       "11  2024/11/22/  91d65fb1bbdc4b16bfceefa75c1baecc\n",
       "12  2024/11/22/  f694b993c8e64b21a864193e0e067f44\n",
       "13  2024/11/22/  fdf2cc3435ef4ae99854712c81ad7324\n",
       "14  2024/11/23/  d434d74491e34da49ddba35d689823ab\n",
       "15  2024/11/23/  e2d81545a6c340d8aafec45e4c4e086e\n",
       "16  2024/11/24/  8987c526cf4b4570b7e38790e2a97578"
      ]
     },
     "execution_count": 21,
     "metadata": {},
     "output_type": "execute_result"
    }
   ],
   "source": [
    "# to make more readable \n",
    "\n",
    "df_log_streams = df_log_streams_raw[\"raw_streams\"].str.split(r\"\\[\\$LATEST\\]\", expand=True)\n",
    "df_log_streams.columns = [\"date_pulled\", \"stream_hash\"]\n",
    "\n",
    "df_log_streams"
   ]
  },
  {
   "cell_type": "markdown",
   "metadata": {},
   "source": [
    "### Log Events\n",
    "***"
   ]
  },
  {
   "cell_type": "code",
   "execution_count": 22,
   "metadata": {},
   "outputs": [
    {
     "name": "stdout",
     "output_type": "stream",
     "text": [
      "Timestamp: 1732415152518, Message: INIT_START Runtime Version: python:3.12.v38\tRuntime Version ARN: arn:aws:lambda:us-east-1::runtime:7515e00d6763496e7a147ffa395ef5b0f0c1ffd6064130abb5ecde5a6d630e86\n",
      "\n",
      "Timestamp: 1732415152929, Message: [INFO]\t2024-11-24T02:25:52.928Z\t\tFound credentials in environment variables.\n",
      "\n",
      "Timestamp: 1732415153152, Message: START RequestId: 0f80b1cb-7fbe-4554-acc8-51db015e343b Version: $LATEST\n",
      "\n",
      "Timestamp: 1732415153154, Message: LAMBDA_WARNING: Unhandled exception. The most likely cause is an issue in the function code. However, in rare cases, a Lambda runtime update can cause unexpected function behavior. For functions using managed runtimes, runtime updates can be triggered by a function change, or can be applied automatically. To determine if the runtime has been updated, check the runtime version in the INIT_START log entry. If this error correlates with a change in the runtime version, you may be able to mitigate this error by temporarily rolling back to the previous runtime version. For more information, see https://docs.aws.amazon.com/lambda/latest/dg/runtimes-update.html\n",
      "Timestamp: 1732415153155, Message: [ERROR] KeyError: 'bucket'\n",
      "Traceback (most recent call last):\n",
      "  File \"/var/task/lambda_function.py\", line 35, in lambda_handler\n",
      "    bucket = event[\"bucket\"]\n",
      "Timestamp: 1732415153157, Message: END RequestId: 0f80b1cb-7fbe-4554-acc8-51db015e343b\n",
      "\n",
      "Timestamp: 1732415153157, Message: REPORT RequestId: 0f80b1cb-7fbe-4554-acc8-51db015e343b\tDuration: 5.24 ms\tBilled Duration: 6 ms\tMemory Size: 128 MB\tMax Memory Used: 81 MB\tInit Duration: 631.31 ms\t\n",
      "\n"
     ]
    }
   ],
   "source": [
    "# can now get log events\n",
    "\n",
    "# try the latest (already in order oldest -> newest or desc)\n",
    "LOG_STREAM = df_log_streams_raw.iloc[-1].values[0]\n",
    "\n",
    "r = cloudwatch.get_log_events(logGroupName=LOG_GROUP, logStreamName=LOG_STREAM)\n",
    "\n",
    "for event in r['events']:\n",
    "    print(f\"Timestamp: {event['timestamp']}, Message: {event['message']}\")"
   ]
  },
  {
   "cell_type": "code",
   "execution_count": 23,
   "metadata": {},
   "outputs": [
    {
     "data": {
      "text/plain": [
       "{'timestamp': 1732415153157,\n",
       " 'message': 'REPORT RequestId: 0f80b1cb-7fbe-4554-acc8-51db015e343b\\tDuration: 5.24 ms\\tBilled Duration: 6 ms\\tMemory Size: 128 MB\\tMax Memory Used: 81 MB\\tInit Duration: 631.31 ms\\t\\n',\n",
       " 'ingestionTime': 1732415161205}"
      ]
     },
     "execution_count": 23,
     "metadata": {},
     "output_type": "execute_result"
    }
   ],
   "source": [
    "event"
   ]
  },
  {
   "cell_type": "code",
   "execution_count": 24,
   "metadata": {},
   "outputs": [
    {
     "data": {
      "text/html": [
       "<div>\n",
       "<style scoped>\n",
       "    .dataframe tbody tr th:only-of-type {\n",
       "        vertical-align: middle;\n",
       "    }\n",
       "\n",
       "    .dataframe tbody tr th {\n",
       "        vertical-align: top;\n",
       "    }\n",
       "\n",
       "    .dataframe thead th {\n",
       "        text-align: right;\n",
       "    }\n",
       "</style>\n",
       "<table border=\"1\" class=\"dataframe\">\n",
       "  <thead>\n",
       "    <tr style=\"text-align: right;\">\n",
       "      <th></th>\n",
       "      <th>timestamp</th>\n",
       "      <th>message</th>\n",
       "      <th>ingestionTime</th>\n",
       "    </tr>\n",
       "  </thead>\n",
       "  <tbody>\n",
       "    <tr>\n",
       "      <th>0</th>\n",
       "      <td>1732415152518</td>\n",
       "      <td>INIT_START Runtime Version: python:3.12.v38\\tR...</td>\n",
       "      <td>1732415161205</td>\n",
       "    </tr>\n",
       "    <tr>\n",
       "      <th>1</th>\n",
       "      <td>1732415152929</td>\n",
       "      <td>[INFO]\\t2024-11-24T02:25:52.928Z\\t\\tFound cred...</td>\n",
       "      <td>1732415161205</td>\n",
       "    </tr>\n",
       "    <tr>\n",
       "      <th>2</th>\n",
       "      <td>1732415153152</td>\n",
       "      <td>START RequestId: 0f80b1cb-7fbe-4554-acc8-51db0...</td>\n",
       "      <td>1732415161205</td>\n",
       "    </tr>\n",
       "    <tr>\n",
       "      <th>3</th>\n",
       "      <td>1732415153154</td>\n",
       "      <td>LAMBDA_WARNING: Unhandled exception. The most ...</td>\n",
       "      <td>1732415161205</td>\n",
       "    </tr>\n",
       "    <tr>\n",
       "      <th>4</th>\n",
       "      <td>1732415153155</td>\n",
       "      <td>[ERROR] KeyError: 'bucket'\\nTraceback (most re...</td>\n",
       "      <td>1732415161205</td>\n",
       "    </tr>\n",
       "    <tr>\n",
       "      <th>5</th>\n",
       "      <td>1732415153157</td>\n",
       "      <td>END RequestId: 0f80b1cb-7fbe-4554-acc8-51db015...</td>\n",
       "      <td>1732415161205</td>\n",
       "    </tr>\n",
       "    <tr>\n",
       "      <th>6</th>\n",
       "      <td>1732415153157</td>\n",
       "      <td>REPORT RequestId: 0f80b1cb-7fbe-4554-acc8-51db...</td>\n",
       "      <td>1732415161205</td>\n",
       "    </tr>\n",
       "  </tbody>\n",
       "</table>\n",
       "</div>"
      ],
      "text/plain": [
       "       timestamp                                            message  \\\n",
       "0  1732415152518  INIT_START Runtime Version: python:3.12.v38\\tR...   \n",
       "1  1732415152929  [INFO]\\t2024-11-24T02:25:52.928Z\\t\\tFound cred...   \n",
       "2  1732415153152  START RequestId: 0f80b1cb-7fbe-4554-acc8-51db0...   \n",
       "3  1732415153154  LAMBDA_WARNING: Unhandled exception. The most ...   \n",
       "4  1732415153155  [ERROR] KeyError: 'bucket'\\nTraceback (most re...   \n",
       "5  1732415153157  END RequestId: 0f80b1cb-7fbe-4554-acc8-51db015...   \n",
       "6  1732415153157  REPORT RequestId: 0f80b1cb-7fbe-4554-acc8-51db...   \n",
       "\n",
       "   ingestionTime  \n",
       "0  1732415161205  \n",
       "1  1732415161205  \n",
       "2  1732415161205  \n",
       "3  1732415161205  \n",
       "4  1732415161205  \n",
       "5  1732415161205  \n",
       "6  1732415161205  "
      ]
     },
     "execution_count": 24,
     "metadata": {},
     "output_type": "execute_result"
    }
   ],
   "source": [
    "pd.json_normalize(r, record_path=[\"events\"])"
   ]
  },
  {
   "cell_type": "code",
   "execution_count": 25,
   "metadata": {},
   "outputs": [],
   "source": [
    "# check all of them\n",
    "# for stream in df_log_streams_raw[\"raw_streams\"]:\n",
    "#     r = cloudwatch.get_log_events(logGroupName=LOG_GROUP, logStreamName=stream)\n",
    "\n",
    "#     # any valid events?\n",
    "#     for event in r['events']:\n",
    "#         print(f\"Timestamp: {event['timestamp']}, Message: {event['message']}\")"
   ]
  },
  {
   "cell_type": "code",
   "execution_count": 26,
   "metadata": {},
   "outputs": [],
   "source": [
    "# TODO: get out metrics from runs\\\n",
    "    # pipe into data so team can use\n",
    "\n",
    "# TODO: try a lambda function hello world"
   ]
  }
 ],
 "metadata": {
  "kernelspec": {
   "display_name": "PROJECT_venv",
   "language": "python",
   "name": "project_venv"
  },
  "language_info": {
   "codemirror_mode": {
    "name": "ipython",
    "version": 3
   },
   "file_extension": ".py",
   "mimetype": "text/x-python",
   "name": "python",
   "nbconvert_exporter": "python",
   "pygments_lexer": "ipython3",
   "version": "3.11.8"
  }
 },
 "nbformat": 4,
 "nbformat_minor": 2
}
