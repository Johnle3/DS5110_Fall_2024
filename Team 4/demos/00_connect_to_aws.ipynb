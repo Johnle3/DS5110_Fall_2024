{
 "cells": [
  {
   "cell_type": "markdown",
   "metadata": {},
   "source": [
    "# Objective\n",
    "\n",
    "This notebook shows the connection to AWS and a Hello World with some of the services used\n",
    "\n",
    "1) S3\n",
    "2) Lambda (try the hello world from midterm)\n",
    "3) Cloud Watch\n",
    "\n",
    "To connect a key was made using IAM, and put into a local `.env` file, the credentials are temporary and will expire in 30 days. Care should be used when making these and different keys used for dev and prod.\n",
    "\n",
    "\n",
    "* outside POC environment consider different security practices such as SSO \n"
   ]
  },
  {
   "cell_type": "code",
   "execution_count": 2,
   "metadata": {},
   "outputs": [],
   "source": [
    "# !pip install pydot\n",
    "# !pip install python-dotenv"
   ]
  },
  {
   "cell_type": "code",
   "execution_count": 3,
   "metadata": {},
   "outputs": [
    {
     "name": "stdout",
     "output_type": "stream",
     "text": [
      "3.11.8 (v3.11.8:db85d51d3e, Feb  6 2024, 18:02:37) [Clang 13.0.0 (clang-1300.0.29.30)]\n"
     ]
    }
   ],
   "source": [
    "import sys\n",
    "\n",
    "import boto3\n",
    "from botocore.config import Config\n",
    "from dotenv import dotenv_values\n",
    "\n",
    "\n",
    "config = dotenv_values(\".env\") \n",
    "\n",
    "print(sys.version)"
   ]
  },
  {
   "cell_type": "code",
   "execution_count": 4,
   "metadata": {},
   "outputs": [
    {
     "data": {
      "text/plain": [
       "['aws-athena-query-results-211125778552-us-east-1',\n",
       " 'cosmicai-data',\n",
       " 'cosmicai2',\n",
       " 'fmi-lambda-demo',\n",
       " 'group2-s3-bucket',\n",
       " 'group4-s3-bucket',\n",
       " 'sagemaker-studio-211125778552-3zpozdpwzcx',\n",
       " 'sagemaker-studio-211125778552-rrp76qgcj1n',\n",
       " 'sagemaker-us-east-1-211125778552',\n",
       " 'team-one-cosmic-data',\n",
       " 'team-one-s3-cosmic',\n",
       " 'team2cosmicai',\n",
       " 'team3cosmicai',\n",
       " 'team4-cosmicai']"
      ]
     },
     "execution_count": 4,
     "metadata": {},
     "output_type": "execute_result"
    }
   ],
   "source": [
    "# connect to S3\n",
    "s3_resource = boto3.client(\n",
    "    's3',\n",
    "    aws_access_key_id=config[\"aws_access_key_id\"],\n",
    "    aws_secret_access_key=config[\"aws_secret_access_key\"]\n",
    ")\n",
    "\n",
    "\n",
    "d = s3_resource.list_buckets()\n",
    "\n",
    "# show current buckets\n",
    "b = [n[\"Name\"] for n in d[\"Buckets\"]]\n",
    "\n",
    "b"
   ]
  },
  {
   "cell_type": "code",
   "execution_count": 5,
   "metadata": {},
   "outputs": [],
   "source": [
    "# validate folders needed in connection\n",
    "assert 'fmi-lambda-demo' in b, \"missing our team4 cosmicai S3 connection\"\n",
    "assert 'team4-cosmicai' in b, \"missing our team4 cosmicai S3 connection\"\n"
   ]
  },
  {
   "cell_type": "code",
   "execution_count": 6,
   "metadata": {},
   "outputs": [],
   "source": [
    "set_region = Config(\n",
    "    region_name = config[\"region\"]\n",
    ")\n",
    "\n",
    "# Create CloudWatch client\n",
    "cloudwatch = boto3.client('cloudwatch', \n",
    "                          aws_access_key_id=config[\"aws_access_key_id\"],\n",
    "                          aws_secret_access_key=config[\"aws_secret_access_key\"],\n",
    "                          config = set_region)\n"
   ]
  },
  {
   "cell_type": "code",
   "execution_count": 19,
   "metadata": {},
   "outputs": [
    {
     "name": "stdout",
     "output_type": "stream",
     "text": [
      "[{'Namespace': 'AWS/Logs', 'MetricName': 'IncomingLogEvents', 'Dimensions': [{'Name': 'LogGroupName', 'Value': '/aws/sagemaker/ProcessingJobs'}]}, {'Namespace': 'AWS/Logs', 'MetricName': 'IncomingLogEvents', 'Dimensions': [{'Name': 'LogGroupName', 'Value': '/aws/vendedlogs/states/DS5110StateMachine2-Logs'}]}, {'Namespace': 'AWS/Logs', 'MetricName': 'IncomingLogEvents', 'Dimensions': [{'Name': 'LogGroupName', 'Value': '/aws/vendedlogs/states/DS5110StateMachine3-Logs'}]}, {'Namespace': 'AWS/Logs', 'MetricName': 'IncomingLogEvents', 'Dimensions': [{'Name': 'LogGroupName', 'Value': '/aws/lambda/cosmic-init'}]}, {'Namespace': 'AWS/Logs', 'MetricName': 'IncomingLogEvents', 'Dimensions': [{'Name': 'LogGroupName', 'Value': '/aws/sagemaker/studio'}]}, {'Namespace': 'AWS/Logs', 'MetricName': 'IncomingLogEvents', 'Dimensions': [{'Name': 'LogGroupName', 'Value': '/aws/lambda/resultSummary'}]}, {'Namespace': 'AWS/Logs', 'MetricName': 'IncomingLogEvents', 'Dimensions': [{'Name': 'LogGroupName', 'Value': '/aws/lambda/data-parallel-init'}]}, {'Namespace': 'AWS/Logs', 'MetricName': 'IncomingLogEvents', 'Dimensions': [{'Name': 'LogGroupName', 'Value': '/aws/vendedlogs/states/Group2_cosmicai-Logs'}]}, {'Namespace': 'AWS/Logs', 'MetricName': 'IncomingLogEvents', 'Dimensions': [{'Name': 'LogGroupName', 'Value': '/ecs/rendezvous-tcpunch-fargate-task'}]}, {'Namespace': 'AWS/Logs', 'MetricName': 'IncomingLogEvents', 'Dimensions': [{'Name': 'LogGroupName', 'Value': '/aws/vendedlogs/states/DataParallel-CosmicAI-Logs'}]}, {'Namespace': 'AWS/Logs', 'MetricName': 'IncomingLogEvents', 'Dimensions': [{'Name': 'LogGroupName', 'Value': '/aws/lambda/cosmic-executor'}]}, {'Namespace': 'AWS/Logs', 'MetricName': 'IncomingLogEvents', 'Dimensions': [{'Name': 'LogGroupName', 'Value': '/aws/lambda/fmi_executor'}]}, {'Namespace': 'AWS/Logs', 'MetricName': 'IncomingLogEvents', 'Dimensions': [{'Name': 'LogGroupName', 'Value': '/aws/lambda/fmi_init'}]}]\n"
     ]
    }
   ],
   "source": [
    "# List metrics through the pagination interface\n",
    "\n",
    "paginator = cloudwatch.get_paginator('list_metrics')\n",
    "for response in paginator.paginate(Dimensions=[{'Name': 'LogGroupName'}],\n",
    "                                   MetricName='IncomingLogEvents',\n",
    "                                   Namespace='AWS/Logs'):\n",
    "    print(response['Metrics'])"
   ]
  },
  {
   "cell_type": "code",
   "execution_count": 35,
   "metadata": {},
   "outputs": [
    {
     "data": {
      "text/html": [
       "<div>\n",
       "<style scoped>\n",
       "    .dataframe tbody tr th:only-of-type {\n",
       "        vertical-align: middle;\n",
       "    }\n",
       "\n",
       "    .dataframe tbody tr th {\n",
       "        vertical-align: top;\n",
       "    }\n",
       "\n",
       "    .dataframe thead th {\n",
       "        text-align: right;\n",
       "    }\n",
       "</style>\n",
       "<table border=\"1\" class=\"dataframe\">\n",
       "  <thead>\n",
       "    <tr style=\"text-align: right;\">\n",
       "      <th></th>\n",
       "      <th>Name</th>\n",
       "      <th>Value</th>\n",
       "    </tr>\n",
       "  </thead>\n",
       "  <tbody>\n",
       "    <tr>\n",
       "      <th>0</th>\n",
       "      <td>LogGroupName</td>\n",
       "      <td>/aws/sagemaker/ProcessingJobs</td>\n",
       "    </tr>\n",
       "    <tr>\n",
       "      <th>1</th>\n",
       "      <td>LogGroupName</td>\n",
       "      <td>/aws/vendedlogs/states/DS5110StateMachine2-Logs</td>\n",
       "    </tr>\n",
       "    <tr>\n",
       "      <th>2</th>\n",
       "      <td>LogGroupName</td>\n",
       "      <td>/aws/vendedlogs/states/DS5110StateMachine3-Logs</td>\n",
       "    </tr>\n",
       "    <tr>\n",
       "      <th>3</th>\n",
       "      <td>LogGroupName</td>\n",
       "      <td>/aws/lambda/cosmic-init</td>\n",
       "    </tr>\n",
       "    <tr>\n",
       "      <th>4</th>\n",
       "      <td>LogGroupName</td>\n",
       "      <td>/aws/sagemaker/studio</td>\n",
       "    </tr>\n",
       "    <tr>\n",
       "      <th>5</th>\n",
       "      <td>LogGroupName</td>\n",
       "      <td>/aws/lambda/resultSummary</td>\n",
       "    </tr>\n",
       "    <tr>\n",
       "      <th>6</th>\n",
       "      <td>LogGroupName</td>\n",
       "      <td>/aws/lambda/data-parallel-init</td>\n",
       "    </tr>\n",
       "    <tr>\n",
       "      <th>7</th>\n",
       "      <td>LogGroupName</td>\n",
       "      <td>/aws/vendedlogs/states/Group2_cosmicai-Logs</td>\n",
       "    </tr>\n",
       "    <tr>\n",
       "      <th>8</th>\n",
       "      <td>LogGroupName</td>\n",
       "      <td>/ecs/rendezvous-tcpunch-fargate-task</td>\n",
       "    </tr>\n",
       "    <tr>\n",
       "      <th>9</th>\n",
       "      <td>LogGroupName</td>\n",
       "      <td>/aws/vendedlogs/states/DataParallel-CosmicAI-Logs</td>\n",
       "    </tr>\n",
       "    <tr>\n",
       "      <th>10</th>\n",
       "      <td>LogGroupName</td>\n",
       "      <td>/aws/lambda/cosmic-executor</td>\n",
       "    </tr>\n",
       "    <tr>\n",
       "      <th>11</th>\n",
       "      <td>LogGroupName</td>\n",
       "      <td>/aws/lambda/fmi_executor</td>\n",
       "    </tr>\n",
       "    <tr>\n",
       "      <th>12</th>\n",
       "      <td>LogGroupName</td>\n",
       "      <td>/aws/lambda/fmi_init</td>\n",
       "    </tr>\n",
       "  </tbody>\n",
       "</table>\n",
       "</div>"
      ],
      "text/plain": [
       "            Name                                              Value\n",
       "0   LogGroupName                      /aws/sagemaker/ProcessingJobs\n",
       "1   LogGroupName    /aws/vendedlogs/states/DS5110StateMachine2-Logs\n",
       "2   LogGroupName    /aws/vendedlogs/states/DS5110StateMachine3-Logs\n",
       "3   LogGroupName                            /aws/lambda/cosmic-init\n",
       "4   LogGroupName                              /aws/sagemaker/studio\n",
       "5   LogGroupName                          /aws/lambda/resultSummary\n",
       "6   LogGroupName                     /aws/lambda/data-parallel-init\n",
       "7   LogGroupName        /aws/vendedlogs/states/Group2_cosmicai-Logs\n",
       "8   LogGroupName               /ecs/rendezvous-tcpunch-fargate-task\n",
       "9   LogGroupName  /aws/vendedlogs/states/DataParallel-CosmicAI-Logs\n",
       "10  LogGroupName                        /aws/lambda/cosmic-executor\n",
       "11  LogGroupName                           /aws/lambda/fmi_executor\n",
       "12  LogGroupName                               /aws/lambda/fmi_init"
      ]
     },
     "execution_count": 35,
     "metadata": {},
     "output_type": "execute_result"
    }
   ],
   "source": [
    "# show the log groups\n",
    "import pandas as pd\n",
    "\n",
    "pd.json_normalize(response, record_path=[\"Metrics\", \"Dimensions\"])"
   ]
  },
  {
   "cell_type": "code",
   "execution_count": null,
   "metadata": {},
   "outputs": [],
   "source": [
    "# TODO: get out metrics from runs\\\n",
    "    # pipe into data so team can use\n",
    "\n",
    "# TODO: try a lambda function hello world"
   ]
  }
 ],
 "metadata": {
  "kernelspec": {
   "display_name": "PROJECT_venv",
   "language": "python",
   "name": "project_venv"
  },
  "language_info": {
   "codemirror_mode": {
    "name": "ipython",
    "version": 3
   },
   "file_extension": ".py",
   "mimetype": "text/x-python",
   "name": "python",
   "nbconvert_exporter": "python",
   "pygments_lexer": "ipython3",
   "version": "3.11.8"
  }
 },
 "nbformat": 4,
 "nbformat_minor": 2
}
