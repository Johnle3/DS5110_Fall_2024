{
 "cells": [
  {
   "cell_type": "markdown",
   "metadata": {},
   "source": [
    "# Objective\n",
    "\n",
    "This is to show and compare local runs for the `Ai-for-Astronmy` inference model, concerned with getting a baseline reading for\n",
    "\n",
    "1) different batch sizes\n",
    "2) different data sizes\n",
    "3) if possible different batch on different data sizes\n",
    "\n",
    "Because this is run on a local machine without a GPU only a CPU is available\n",
    "\n",
    "***"
   ]
  },
  {
   "cell_type": "code",
   "execution_count": 1,
   "metadata": {},
   "outputs": [],
   "source": [
    "# !pip install tensorflow\n",
    "# not strictly necessary consider only for notebook or adding to requirements.txt[dev]\n",
    "\n",
    "# pip install torch-summary\n",
    "# not strictly necessary consider only for notebook or adding to requirements.txt[dev]\n",
    "\n",
    "# make sure astronomy for ai is updated\n",
    "# !cd ..// && make update_Astronomy_AI"
   ]
  },
  {
   "cell_type": "code",
   "execution_count": 2,
   "metadata": {},
   "outputs": [
    {
     "name": "stdout",
     "output_type": "stream",
     "text": [
      "3.11.8 (v3.11.8:db85d51d3e, Feb  6 2024, 18:02:37) [Clang 13.0.0 (clang-1300.0.29.30)]\n",
      "2.18.0\n"
     ]
    }
   ],
   "source": [
    "from glob import glob\n",
    "import sys\n",
    "\n",
    "import matplotlib.pyplot as plt\n",
    "import pandas as pd\n",
    "import platform\n",
    "import psutil\n",
    "import tensorflow as tf\n",
    "from torchsummary import summary\n",
    "import seaborn as sns\n",
    "import yaml\n",
    "\n",
    "from cosmicai.inference import CosmicAI\n",
    "import warnings\n",
    "\n",
    "# some model weight warnings\n",
    "warnings.filterwarnings(\"ignore\")\n",
    "\n",
    "with open(\"../keys/aws_credentials.yaml\", \"r\") as f:\n",
    "    credentials = yaml.safe_load(f)\n",
    "\n",
    "plt.rcParams[\"figure.figsize\"] = (11, 8)\n",
    "\n",
    "print(sys.version)\n",
    "print(tf.__version__)"
   ]
  },
  {
   "cell_type": "code",
   "execution_count": 3,
   "metadata": {},
   "outputs": [
    {
     "name": "stdout",
     "output_type": "stream",
     "text": [
      "Darwin\n",
      "arm\n",
      "Total Memory: 48.00 GB\n",
      "Available Memory: 34.51 GB\n",
      "Used Memory: 10.49 GB\n",
      "Free Memory: 27.74 GB\n",
      "[PhysicalDevice(name='/physical_device:CPU:0', device_type='CPU')]\n"
     ]
    }
   ],
   "source": [
    "print(platform.system()) # mac - Darwin\n",
    "print(platform.processor()) # cpu\n",
    "\n",
    "# Get system memory info\n",
    "memory = psutil.virtual_memory()\n",
    "print(f\"Total Memory: {memory.total / (1024 ** 3):.2f} GB\")\n",
    "print(f\"Available Memory: {memory.available / (1024 ** 3):.2f} GB\")\n",
    "print(f\"Used Memory: {memory.used / (1024 ** 3):.2f} GB\")\n",
    "print(f\"Free Memory: {memory.free / (1024 ** 3):.2f} GB\")\n",
    "\n",
    "devices = tf.config.list_physical_devices()\n",
    "print(devices) # only cpu on local\n"
   ]
  },
  {
   "cell_type": "markdown",
   "metadata": {},
   "source": [
    "## Load the Cosmic AI instance"
   ]
  },
  {
   "cell_type": "code",
   "execution_count": 4,
   "metadata": {},
   "outputs": [
    {
     "name": "stdout",
     "output_type": "stream",
     "text": [
      " 25M\t../data/models/default_model_data/resized_inference.pt\n",
      " 61M\t../data/models/Mixed_Inception_z_VITAE_Base_Img_Full_New_Full.pt\n"
     ]
    }
   ],
   "source": [
    "!du -h ../data/models/default_model_data/resized_inference.pt # data size\n",
    "!du -h ../data/models/Mixed_Inception_z_VITAE_Base_Img_Full_New_Full.pt # model size"
   ]
  },
  {
   "cell_type": "code",
   "execution_count": 5,
   "metadata": {},
   "outputs": [
    {
     "name": "stdout",
     "output_type": "stream",
     "text": [
      "loading data from - ../data/models/default_model_data/resized_inference.pt\n",
      "loading the model from  ../data/models/Mixed_Inception_z_VITAE_Base_Img_Full_New_Full.pt\n"
     ]
    }
   ],
   "source": [
    "cosmic = CosmicAI()\n",
    "cosmic.load_data() \n",
    "cosmic.load_model()"
   ]
  },
  {
   "cell_type": "markdown",
   "metadata": {},
   "source": [
    "### Visualize the Model Weights\n",
    "***\n",
    "\n",
    "* keras style visualizer, not required and shouldn't be loaded with requirements just visualizing"
   ]
  },
  {
   "cell_type": "code",
   "execution_count": 6,
   "metadata": {},
   "outputs": [
    {
     "name": "stdout",
     "output_type": "stream",
     "text": [
      "=================================================================\n",
      "Layer (type:depth-idx)                   Param #\n",
      "=================================================================\n",
      "├─LayerNorm: 1-1                         384\n",
      "├─Linear: 1-2                            37,056\n",
      "├─Input_Mix_Model: 1-3                   --\n",
      "|    └─Conv2d: 2-1                       192\n",
      "|    └─AvgPool2d: 2-2                    --\n",
      "|    └─AvgPool2d: 2-3                    --\n",
      "|    └─Sequential: 2-4                   --\n",
      "|    |    └─Linear: 3-1                  6,144\n",
      "|    |    └─ReLU: 3-2                    --\n",
      "|    |    └─Linear: 3-3                  1,049,600\n",
      "|    |    └─ReLU: 3-4                    --\n",
      "|    |    └─Linear: 3-5                  1,049,600\n",
      "|    |    └─ReLU: 3-6                    --\n",
      "|    |    └─Linear: 3-7                  1,049,600\n",
      "|    |    └─ReLU: 3-8                    --\n",
      "|    |    └─Linear: 3-9                  1,049,600\n",
      "|    └─Sequential: 2-5                   --\n",
      "|    |    └─Conv2d: 3-10                 (recursive)\n",
      "|    |    └─AvgPool2d: 3-11              --\n",
      "|    |    └─InceptionBlock: 3-12         11,040\n",
      "|    |    └─InceptionBlock: 3-13         13,088\n",
      "|    |    └─AvgPool2d: 3-14              --\n",
      "|    |    └─InceptionBlock: 3-15         4,368\n",
      "|    |    └─InceptionBlock: 3-16         3,344\n",
      "|    |    └─AvgPool2d: 3-17              --\n",
      "|    |    └─InceptionBlock: 3-18         1,128\n",
      "|    |    └─Flatten: 3-19                --\n",
      "|    |    └─Linear: 3-20                 211,528\n",
      "|    |    └─ReLU: 3-21                   --\n",
      "|    |    └─Linear: 3-22                 1,202,312\n",
      "├─ModuleList: 1-4                        --\n",
      "|    └─NormalCell: 2-6                   --\n",
      "|    |    └─LayerNorm: 3-23              (384)\n",
      "|    |    └─Attention: 3-24              (148,032)\n",
      "|    |    └─Identity: 3-25               --\n",
      "|    |    └─LayerNorm: 3-26              (384)\n",
      "|    |    └─Mlp: 3-27                    (295,872)\n",
      "|    |    └─Sequential: 3-28             (8,640)\n",
      "|    └─NormalCell: 2-7                   --\n",
      "|    |    └─LayerNorm: 3-29              (384)\n",
      "|    |    └─Attention: 3-30              (148,032)\n",
      "|    |    └─Identity: 3-31               --\n",
      "|    |    └─LayerNorm: 3-32              (384)\n",
      "|    |    └─Mlp: 3-33                    (295,872)\n",
      "|    |    └─Sequential: 3-34             (8,640)\n",
      "|    └─NormalCell: 2-8                   --\n",
      "|    |    └─LayerNorm: 3-35              (384)\n",
      "|    |    └─Attention: 3-36              (148,032)\n",
      "|    |    └─Identity: 3-37               --\n",
      "|    |    └─LayerNorm: 3-38              (384)\n",
      "|    |    └─Mlp: 3-39                    (295,872)\n",
      "|    |    └─Sequential: 3-40             (8,640)\n",
      "|    └─NormalCell: 2-9                   --\n",
      "|    |    └─LayerNorm: 3-41              (384)\n",
      "|    |    └─Attention: 3-42              (148,032)\n",
      "|    |    └─Identity: 3-43               --\n",
      "|    |    └─LayerNorm: 3-44              (384)\n",
      "|    |    └─Mlp: 3-45                    (295,872)\n",
      "|    |    └─Sequential: 3-46             (8,640)\n",
      "|    └─NormalCell: 2-10                  --\n",
      "|    |    └─LayerNorm: 3-47              (384)\n",
      "|    |    └─Attention: 3-48              (148,032)\n",
      "|    |    └─Identity: 3-49               --\n",
      "|    |    └─LayerNorm: 3-50              (384)\n",
      "|    |    └─Mlp: 3-51                    (295,872)\n",
      "|    |    └─Sequential: 3-52             (8,640)\n",
      "|    └─NormalCell: 2-11                  --\n",
      "|    |    └─LayerNorm: 3-53              (384)\n",
      "|    |    └─Attention: 3-54              (148,032)\n",
      "|    |    └─Identity: 3-55               --\n",
      "|    |    └─LayerNorm: 3-56              (384)\n",
      "|    |    └─Mlp: 3-57                    (295,872)\n",
      "|    |    └─Sequential: 3-58             (8,640)\n",
      "|    └─NormalCell: 2-12                  --\n",
      "|    |    └─LayerNorm: 3-59              (384)\n",
      "|    |    └─Attention: 3-60              (148,032)\n",
      "|    |    └─Identity: 3-61               --\n",
      "|    |    └─LayerNorm: 3-62              (384)\n",
      "|    |    └─Mlp: 3-63                    (295,872)\n",
      "|    |    └─Sequential: 3-64             (8,640)\n",
      "|    └─NormalCell: 2-13                  --\n",
      "|    |    └─LayerNorm: 3-65              (384)\n",
      "|    |    └─Attention: 3-66              (148,032)\n",
      "|    |    └─Identity: 3-67               --\n",
      "|    |    └─LayerNorm: 3-68              (384)\n",
      "|    |    └─Mlp: 3-69                    (295,872)\n",
      "|    |    └─Sequential: 3-70             (8,640)\n",
      "|    └─NormalCell: 2-14                  --\n",
      "|    |    └─LayerNorm: 3-71              (384)\n",
      "|    |    └─Attention: 3-72              (148,032)\n",
      "|    |    └─Identity: 3-73               --\n",
      "|    |    └─LayerNorm: 3-74              (384)\n",
      "|    |    └─Mlp: 3-75                    (295,872)\n",
      "|    |    └─Sequential: 3-76             (8,640)\n",
      "|    └─NormalCell: 2-15                  --\n",
      "|    |    └─LayerNorm: 3-77              (384)\n",
      "|    |    └─Attention: 3-78              (148,032)\n",
      "|    |    └─Identity: 3-79               --\n",
      "|    |    └─LayerNorm: 3-80              (384)\n",
      "|    |    └─Mlp: 3-81                    (295,872)\n",
      "|    |    └─Sequential: 3-82             (8,640)\n",
      "|    └─NormalCell: 2-16                  --\n",
      "|    |    └─LayerNorm: 3-83              (384)\n",
      "|    |    └─Attention: 3-84              (148,032)\n",
      "|    |    └─Identity: 3-85               --\n",
      "|    |    └─LayerNorm: 3-86              (384)\n",
      "|    |    └─Mlp: 3-87                    (295,872)\n",
      "|    |    └─Sequential: 3-88             (8,640)\n",
      "|    └─NormalCell: 2-17                  --\n",
      "|    |    └─LayerNorm: 3-89              (384)\n",
      "|    |    └─Attention: 3-90              (148,032)\n",
      "|    |    └─Identity: 3-91               --\n",
      "|    |    └─LayerNorm: 3-92              (384)\n",
      "|    |    └─Mlp: 3-93                    (295,872)\n",
      "|    |    └─Sequential: 3-94             (8,640)\n",
      "├─PatchEmbed: 1-5                        --\n",
      "|    └─Conv2d: 2-18                      (61,632)\n",
      "|    └─Identity: 2-19                    --\n",
      "├─Sequential: 1-6                        --\n",
      "|    └─Linear: 2-20                      211,528\n",
      "|    └─ReLU: 2-21                        --\n",
      "|    └─Linear: 2-22                      1,202,312\n",
      "├─Sequential: 1-7                        --\n",
      "|    └─Linear: 2-23                      3,294,208\n",
      "|    └─ReLU: 2-24                        --\n",
      "|    └─Linear: 2-25                      1,025\n",
      "=================================================================\n",
      "Total params: 15,899,433\n",
      "Trainable params: 10,398,057\n",
      "Non-trainable params: 5,501,376\n",
      "=================================================================\n"
     ]
    },
    {
     "data": {
      "text/plain": [
       "=================================================================\n",
       "Layer (type:depth-idx)                   Param #\n",
       "=================================================================\n",
       "├─LayerNorm: 1-1                         384\n",
       "├─Linear: 1-2                            37,056\n",
       "├─Input_Mix_Model: 1-3                   --\n",
       "|    └─Conv2d: 2-1                       192\n",
       "|    └─AvgPool2d: 2-2                    --\n",
       "|    └─AvgPool2d: 2-3                    --\n",
       "|    └─Sequential: 2-4                   --\n",
       "|    |    └─Linear: 3-1                  6,144\n",
       "|    |    └─ReLU: 3-2                    --\n",
       "|    |    └─Linear: 3-3                  1,049,600\n",
       "|    |    └─ReLU: 3-4                    --\n",
       "|    |    └─Linear: 3-5                  1,049,600\n",
       "|    |    └─ReLU: 3-6                    --\n",
       "|    |    └─Linear: 3-7                  1,049,600\n",
       "|    |    └─ReLU: 3-8                    --\n",
       "|    |    └─Linear: 3-9                  1,049,600\n",
       "|    └─Sequential: 2-5                   --\n",
       "|    |    └─Conv2d: 3-10                 (recursive)\n",
       "|    |    └─AvgPool2d: 3-11              --\n",
       "|    |    └─InceptionBlock: 3-12         11,040\n",
       "|    |    └─InceptionBlock: 3-13         13,088\n",
       "|    |    └─AvgPool2d: 3-14              --\n",
       "|    |    └─InceptionBlock: 3-15         4,368\n",
       "|    |    └─InceptionBlock: 3-16         3,344\n",
       "|    |    └─AvgPool2d: 3-17              --\n",
       "|    |    └─InceptionBlock: 3-18         1,128\n",
       "|    |    └─Flatten: 3-19                --\n",
       "|    |    └─Linear: 3-20                 211,528\n",
       "|    |    └─ReLU: 3-21                   --\n",
       "|    |    └─Linear: 3-22                 1,202,312\n",
       "├─ModuleList: 1-4                        --\n",
       "|    └─NormalCell: 2-6                   --\n",
       "|    |    └─LayerNorm: 3-23              (384)\n",
       "|    |    └─Attention: 3-24              (148,032)\n",
       "|    |    └─Identity: 3-25               --\n",
       "|    |    └─LayerNorm: 3-26              (384)\n",
       "|    |    └─Mlp: 3-27                    (295,872)\n",
       "|    |    └─Sequential: 3-28             (8,640)\n",
       "|    └─NormalCell: 2-7                   --\n",
       "|    |    └─LayerNorm: 3-29              (384)\n",
       "|    |    └─Attention: 3-30              (148,032)\n",
       "|    |    └─Identity: 3-31               --\n",
       "|    |    └─LayerNorm: 3-32              (384)\n",
       "|    |    └─Mlp: 3-33                    (295,872)\n",
       "|    |    └─Sequential: 3-34             (8,640)\n",
       "|    └─NormalCell: 2-8                   --\n",
       "|    |    └─LayerNorm: 3-35              (384)\n",
       "|    |    └─Attention: 3-36              (148,032)\n",
       "|    |    └─Identity: 3-37               --\n",
       "|    |    └─LayerNorm: 3-38              (384)\n",
       "|    |    └─Mlp: 3-39                    (295,872)\n",
       "|    |    └─Sequential: 3-40             (8,640)\n",
       "|    └─NormalCell: 2-9                   --\n",
       "|    |    └─LayerNorm: 3-41              (384)\n",
       "|    |    └─Attention: 3-42              (148,032)\n",
       "|    |    └─Identity: 3-43               --\n",
       "|    |    └─LayerNorm: 3-44              (384)\n",
       "|    |    └─Mlp: 3-45                    (295,872)\n",
       "|    |    └─Sequential: 3-46             (8,640)\n",
       "|    └─NormalCell: 2-10                  --\n",
       "|    |    └─LayerNorm: 3-47              (384)\n",
       "|    |    └─Attention: 3-48              (148,032)\n",
       "|    |    └─Identity: 3-49               --\n",
       "|    |    └─LayerNorm: 3-50              (384)\n",
       "|    |    └─Mlp: 3-51                    (295,872)\n",
       "|    |    └─Sequential: 3-52             (8,640)\n",
       "|    └─NormalCell: 2-11                  --\n",
       "|    |    └─LayerNorm: 3-53              (384)\n",
       "|    |    └─Attention: 3-54              (148,032)\n",
       "|    |    └─Identity: 3-55               --\n",
       "|    |    └─LayerNorm: 3-56              (384)\n",
       "|    |    └─Mlp: 3-57                    (295,872)\n",
       "|    |    └─Sequential: 3-58             (8,640)\n",
       "|    └─NormalCell: 2-12                  --\n",
       "|    |    └─LayerNorm: 3-59              (384)\n",
       "|    |    └─Attention: 3-60              (148,032)\n",
       "|    |    └─Identity: 3-61               --\n",
       "|    |    └─LayerNorm: 3-62              (384)\n",
       "|    |    └─Mlp: 3-63                    (295,872)\n",
       "|    |    └─Sequential: 3-64             (8,640)\n",
       "|    └─NormalCell: 2-13                  --\n",
       "|    |    └─LayerNorm: 3-65              (384)\n",
       "|    |    └─Attention: 3-66              (148,032)\n",
       "|    |    └─Identity: 3-67               --\n",
       "|    |    └─LayerNorm: 3-68              (384)\n",
       "|    |    └─Mlp: 3-69                    (295,872)\n",
       "|    |    └─Sequential: 3-70             (8,640)\n",
       "|    └─NormalCell: 2-14                  --\n",
       "|    |    └─LayerNorm: 3-71              (384)\n",
       "|    |    └─Attention: 3-72              (148,032)\n",
       "|    |    └─Identity: 3-73               --\n",
       "|    |    └─LayerNorm: 3-74              (384)\n",
       "|    |    └─Mlp: 3-75                    (295,872)\n",
       "|    |    └─Sequential: 3-76             (8,640)\n",
       "|    └─NormalCell: 2-15                  --\n",
       "|    |    └─LayerNorm: 3-77              (384)\n",
       "|    |    └─Attention: 3-78              (148,032)\n",
       "|    |    └─Identity: 3-79               --\n",
       "|    |    └─LayerNorm: 3-80              (384)\n",
       "|    |    └─Mlp: 3-81                    (295,872)\n",
       "|    |    └─Sequential: 3-82             (8,640)\n",
       "|    └─NormalCell: 2-16                  --\n",
       "|    |    └─LayerNorm: 3-83              (384)\n",
       "|    |    └─Attention: 3-84              (148,032)\n",
       "|    |    └─Identity: 3-85               --\n",
       "|    |    └─LayerNorm: 3-86              (384)\n",
       "|    |    └─Mlp: 3-87                    (295,872)\n",
       "|    |    └─Sequential: 3-88             (8,640)\n",
       "|    └─NormalCell: 2-17                  --\n",
       "|    |    └─LayerNorm: 3-89              (384)\n",
       "|    |    └─Attention: 3-90              (148,032)\n",
       "|    |    └─Identity: 3-91               --\n",
       "|    |    └─LayerNorm: 3-92              (384)\n",
       "|    |    └─Mlp: 3-93                    (295,872)\n",
       "|    |    └─Sequential: 3-94             (8,640)\n",
       "├─PatchEmbed: 1-5                        --\n",
       "|    └─Conv2d: 2-18                      (61,632)\n",
       "|    └─Identity: 2-19                    --\n",
       "├─Sequential: 1-6                        --\n",
       "|    └─Linear: 2-20                      211,528\n",
       "|    └─ReLU: 2-21                        --\n",
       "|    └─Linear: 2-22                      1,202,312\n",
       "├─Sequential: 1-7                        --\n",
       "|    └─Linear: 2-23                      3,294,208\n",
       "|    └─ReLU: 2-24                        --\n",
       "|    └─Linear: 2-25                      1,025\n",
       "=================================================================\n",
       "Total params: 15,899,433\n",
       "Trainable params: 10,398,057\n",
       "Non-trainable params: 5,501,376\n",
       "================================================================="
      ]
     },
     "execution_count": 6,
     "metadata": {},
     "output_type": "execute_result"
    }
   ],
   "source": [
    "summary(cosmic.model)"
   ]
  },
  {
   "cell_type": "markdown",
   "metadata": {},
   "source": [
    "## Run the Model\n",
    "* default data loaded, trying to get a baseline"
   ]
  },
  {
   "cell_type": "code",
   "execution_count": null,
   "metadata": {},
   "outputs": [],
   "source": [
    "cosmic.run_inference()"
   ]
  },
  {
   "cell_type": "markdown",
   "metadata": {},
   "source": [
    "## Vary the Batch Sizes\n",
    "***\n",
    "\n",
    "### Batch Sizes\n",
    "* `512` is the baseline already run above\n",
    "\n",
    "```yaml\n",
    "small: [8, 16, 32, 64]\n",
    "medium: [128, 256]\n",
    "large: [`512`, 1024, 2048, 4096]\n",
    "```\n",
    "NOTE:\n",
    "* throughput is the rate at which a model processes data, more complex models have a higher through put"
   ]
  },
  {
   "cell_type": "code",
   "execution_count": 10,
   "metadata": {},
   "outputs": [],
   "source": [
    "def get_reporting_table(runs_:list, fn:str = None) -> pd.DataFrame:\n",
    "    \"\"\"Give a standard reporting table for a list of the results json.\"\"\"\n",
    "    pd.set_option('display.float_format', lambda x: '%.2f' % x) # change scientific notation\n",
    "\n",
    "    df = pd.DataFrame(runs_) # input: list of dicts\n",
    "    df = df.assign(throughput_mbps = df_baseline[\"throughput_bps\"].div(1000000.0)) # bps -> mbps\n",
    "\n",
    "    if fn is None:\n",
    "        raise(\"need to specify the file name of the output\")\n",
    "        df.to_csv(f\"..//data/interim/{fn}.csv\", index=False)\n",
    "\n",
    "    return df"
   ]
  },
  {
   "cell_type": "code",
   "execution_count": 11,
   "metadata": {},
   "outputs": [
    {
     "name": "stdout",
     "output_type": "stream",
     "text": [
      "running - batch size - 4\n",
      "running - batch size - 8\n",
      "running - batch size - 16\n",
      "running - batch size - 32\n",
      "running - batch size - 64\n",
      "running - batch size - 128\n"
     ]
    },
    {
     "ename": "KeyboardInterrupt",
     "evalue": "",
     "output_type": "error",
     "traceback": [
      "\u001b[0;31m---------------------------------------------------------------------------\u001b[0m",
      "\u001b[0;31mKeyboardInterrupt\u001b[0m                         Traceback (most recent call last)",
      "Cell \u001b[0;32mIn[11], line 6\u001b[0m\n\u001b[1;32m      4\u001b[0m     \u001b[38;5;28mprint\u001b[39m(\u001b[38;5;124mf\u001b[39m\u001b[38;5;124m\"\u001b[39m\u001b[38;5;124mrunning - batch size - \u001b[39m\u001b[38;5;132;01m{\u001b[39;00mn\u001b[38;5;132;01m}\u001b[39;00m\u001b[38;5;124m\"\u001b[39m)\n\u001b[1;32m      5\u001b[0m     cosmic\u001b[38;5;241m.\u001b[39mset_batch_size(n)\n\u001b[0;32m----> 6\u001b[0m     results \u001b[38;5;241m=\u001b[39m \u001b[43mcosmic\u001b[49m\u001b[38;5;241;43m.\u001b[39;49m\u001b[43mrun_inference\u001b[49m\u001b[43m(\u001b[49m\u001b[43m)\u001b[49m\n\u001b[1;32m      7\u001b[0m     batch_runs_\u001b[38;5;241m.\u001b[39mappend(results)\n\u001b[1;32m      9\u001b[0m df_baseline \u001b[38;5;241m=\u001b[39m get_reporting_table(batch_runs_, \u001b[38;5;124m\"\u001b[39m\u001b[38;5;124mbaseline_vary_batch\u001b[39m\u001b[38;5;124m\"\u001b[39m)\n",
      "File \u001b[0;32m~/Desktop/DS_MSDS/DS_Big_Data_Systems_Fall_2024/GROUP_PROJECTS/DS5110_Fall_2024/Team 4/src/cosmicai/inference.py:127\u001b[0m, in \u001b[0;36mCosmicAI.run_inference\u001b[0;34m(self, save_plot)\u001b[0m\n\u001b[1;32m    116\u001b[0m redshift_analysis \u001b[38;5;241m=\u001b[39m (\n\u001b[1;32m    117\u001b[0m     redshift_analysis\u001b[38;5;241m.\u001b[39mcpu()  \u001b[38;5;66;03m# TODO: what if its gpu?\u001b[39;00m\n\u001b[1;32m    118\u001b[0m     \u001b[38;5;241m.\u001b[39mdetach()\n\u001b[0;32m   (...)\u001b[0m\n\u001b[1;32m    122\u001b[0m     )\n\u001b[1;32m    123\u001b[0m )\n\u001b[1;32m    125\u001b[0m \u001b[38;5;66;03m# Extract total time and memory usage for CPU and GPU\u001b[39;00m\n\u001b[1;32m    126\u001b[0m total_cpu_memory \u001b[38;5;241m=\u001b[39m (\n\u001b[0;32m--> 127\u001b[0m     \u001b[43mprof\u001b[49m\u001b[38;5;241;43m.\u001b[39;49m\u001b[43mkey_averages\u001b[49m\u001b[43m(\u001b[49m\u001b[43m)\u001b[49m\u001b[38;5;241m.\u001b[39mtotal_average()\u001b[38;5;241m.\u001b[39mcpu_memory_usage \u001b[38;5;241m/\u001b[39m \u001b[38;5;241m1e6\u001b[39m\n\u001b[1;32m    128\u001b[0m )  \u001b[38;5;66;03m# bytes -> MB\u001b[39;00m\n\u001b[1;32m    129\u001b[0m \u001b[38;5;66;03m# total_gpu_memory = (\u001b[39;00m\n\u001b[1;32m    130\u001b[0m \u001b[38;5;66;03m#     prof.key_averages().total_average().cuda_memory_usage / 1e6\u001b[39;00m\n\u001b[1;32m    131\u001b[0m \u001b[38;5;66;03m# )  # bytes -> MB\u001b[39;00m\n\u001b[1;32m    132\u001b[0m \n\u001b[1;32m    133\u001b[0m \u001b[38;5;66;03m# Extract total CPU and GPU time\u001b[39;00m\n\u001b[1;32m    134\u001b[0m total_cpu_time \u001b[38;5;241m=\u001b[39m (\n\u001b[1;32m    135\u001b[0m     prof\u001b[38;5;241m.\u001b[39mkey_averages()\u001b[38;5;241m.\u001b[39mtotal_average()\u001b[38;5;241m.\u001b[39mcpu_time_total \u001b[38;5;241m/\u001b[39m \u001b[38;5;241m1e6\u001b[39m\n\u001b[1;32m    136\u001b[0m )  \u001b[38;5;66;03m# Convert from microseconds to seconds\u001b[39;00m\n",
      "File \u001b[0;32m~/Desktop/DS_MSDS/DS_Big_Data_Systems_Fall_2024/GROUP_PROJECTS/DS5110_Fall_2024/Team 4/.venv/lib/python3.11/site-packages/torch/profiler/profiler.py:286\u001b[0m, in \u001b[0;36m_KinetoProfile.key_averages\u001b[0;34m(self, group_by_input_shape, group_by_stack_n)\u001b[0m\n\u001b[1;32m    278\u001b[0m \u001b[38;5;250m\u001b[39m\u001b[38;5;124;03m\"\"\"Averages events, grouping them by operator name and (optionally) input shapes and\u001b[39;00m\n\u001b[1;32m    279\u001b[0m \u001b[38;5;124;03mstack.\u001b[39;00m\n\u001b[1;32m    280\u001b[0m \n\u001b[0;32m   (...)\u001b[0m\n\u001b[1;32m    283\u001b[0m \u001b[38;5;124;03m    when creating profiler context manager.\u001b[39;00m\n\u001b[1;32m    284\u001b[0m \u001b[38;5;124;03m\"\"\"\u001b[39;00m\n\u001b[1;32m    285\u001b[0m \u001b[38;5;28;01massert\u001b[39;00m \u001b[38;5;28mself\u001b[39m\u001b[38;5;241m.\u001b[39mprofiler\n\u001b[0;32m--> 286\u001b[0m \u001b[38;5;28;01mreturn\u001b[39;00m \u001b[38;5;28;43mself\u001b[39;49m\u001b[38;5;241;43m.\u001b[39;49m\u001b[43mprofiler\u001b[49m\u001b[38;5;241;43m.\u001b[39;49m\u001b[43mkey_averages\u001b[49m\u001b[43m(\u001b[49m\u001b[43mgroup_by_input_shape\u001b[49m\u001b[43m,\u001b[49m\u001b[43m \u001b[49m\u001b[43mgroup_by_stack_n\u001b[49m\u001b[43m)\u001b[49m\n",
      "File \u001b[0;32m~/Desktop/DS_MSDS/DS_Big_Data_Systems_Fall_2024/GROUP_PROJECTS/DS5110_Fall_2024/Team 4/.venv/lib/python3.11/site-packages/torch/autograd/profiler.py:481\u001b[0m, in \u001b[0;36mprofile.key_averages\u001b[0;34m(self, group_by_input_shape, group_by_stack_n)\u001b[0m\n\u001b[1;32m    480\u001b[0m \u001b[38;5;28;01mdef\u001b[39;00m \u001b[38;5;21mkey_averages\u001b[39m(\u001b[38;5;28mself\u001b[39m, group_by_input_shape\u001b[38;5;241m=\u001b[39m\u001b[38;5;28;01mFalse\u001b[39;00m, group_by_stack_n\u001b[38;5;241m=\u001b[39m\u001b[38;5;241m0\u001b[39m):\n\u001b[0;32m--> 481\u001b[0m     \u001b[38;5;28;43mself\u001b[39;49m\u001b[38;5;241;43m.\u001b[39;49m\u001b[43m_ensure_function_events\u001b[49m\u001b[43m(\u001b[49m\u001b[43m)\u001b[49m\n\u001b[1;32m    482\u001b[0m     \u001b[38;5;28;01massert\u001b[39;00m \u001b[38;5;28mself\u001b[39m\u001b[38;5;241m.\u001b[39m_function_events \u001b[38;5;129;01mis\u001b[39;00m \u001b[38;5;129;01mnot\u001b[39;00m \u001b[38;5;28;01mNone\u001b[39;00m, \u001b[38;5;124m\"\u001b[39m\u001b[38;5;124mExpected profiling results\u001b[39m\u001b[38;5;124m\"\u001b[39m\n\u001b[1;32m    483\u001b[0m     \u001b[38;5;28;01mreturn\u001b[39;00m \u001b[38;5;28mself\u001b[39m\u001b[38;5;241m.\u001b[39m_function_events\u001b[38;5;241m.\u001b[39mkey_averages(\n\u001b[1;32m    484\u001b[0m         group_by_input_shape, group_by_stack_n\n\u001b[1;32m    485\u001b[0m     )\n",
      "File \u001b[0;32m~/Desktop/DS_MSDS/DS_Big_Data_Systems_Fall_2024/GROUP_PROJECTS/DS5110_Fall_2024/Team 4/.venv/lib/python3.11/site-packages/torch/autograd/profiler.py:399\u001b[0m, in \u001b[0;36mprofile._ensure_function_events\u001b[0;34m(self)\u001b[0m\n\u001b[1;32m    397\u001b[0m parsed_results \u001b[38;5;241m=\u001b[39m []\n\u001b[1;32m    398\u001b[0m \u001b[38;5;28;01mif\u001b[39;00m \u001b[38;5;28mself\u001b[39m\u001b[38;5;241m.\u001b[39mkineto_results:\n\u001b[0;32m--> 399\u001b[0m     parsed_results \u001b[38;5;241m=\u001b[39m \u001b[38;5;28;43mself\u001b[39;49m\u001b[38;5;241;43m.\u001b[39;49m\u001b[43m_parse_kineto_results\u001b[49m\u001b[43m(\u001b[49m\u001b[38;5;28;43mself\u001b[39;49m\u001b[38;5;241;43m.\u001b[39;49m\u001b[43mkineto_results\u001b[49m\u001b[43m)\u001b[49m\n\u001b[1;32m    400\u001b[0m t1 \u001b[38;5;241m=\u001b[39m perf_counter_ns()\n\u001b[1;32m    401\u001b[0m \u001b[38;5;28mself\u001b[39m\u001b[38;5;241m.\u001b[39m_stats\u001b[38;5;241m.\u001b[39mparse_kineto_call_duration_us \u001b[38;5;241m=\u001b[39m \u001b[38;5;28mint\u001b[39m((t1 \u001b[38;5;241m-\u001b[39m t0) \u001b[38;5;241m/\u001b[39m \u001b[38;5;241m1000\u001b[39m)\n",
      "File \u001b[0;32m~/Desktop/DS_MSDS/DS_Big_Data_Systems_Fall_2024/GROUP_PROJECTS/DS5110_Fall_2024/Team 4/.venv/lib/python3.11/site-packages/torch/autograd/profiler.py:569\u001b[0m, in \u001b[0;36mprofile._parse_kineto_results\u001b[0;34m(self, result)\u001b[0m\n\u001b[1;32m    559\u001b[0m         mem_record[\u001b[38;5;241m1\u001b[39m] \u001b[38;5;241m=\u001b[39m \u001b[38;5;28;01mTrue\u001b[39;00m\n\u001b[1;32m    561\u001b[0m is_async \u001b[38;5;241m=\u001b[39m kineto_event\u001b[38;5;241m.\u001b[39mis_async() \u001b[38;5;129;01mor\u001b[39;00m (\n\u001b[1;32m    562\u001b[0m     kineto_event\u001b[38;5;241m.\u001b[39mstart_thread_id() \u001b[38;5;241m!=\u001b[39m kineto_event\u001b[38;5;241m.\u001b[39mend_thread_id()\n\u001b[1;32m    563\u001b[0m )\n\u001b[1;32m    565\u001b[0m fe \u001b[38;5;241m=\u001b[39m FunctionEvent(\n\u001b[1;32m    566\u001b[0m     \u001b[38;5;28mid\u001b[39m\u001b[38;5;241m=\u001b[39mkineto_event\u001b[38;5;241m.\u001b[39mcorrelation_id(),\n\u001b[1;32m    567\u001b[0m     name\u001b[38;5;241m=\u001b[39m_rewrite_name(name\u001b[38;5;241m=\u001b[39mkineto_event\u001b[38;5;241m.\u001b[39mname(), with_wildcard\u001b[38;5;241m=\u001b[39m\u001b[38;5;28;01mTrue\u001b[39;00m),\n\u001b[1;32m    568\u001b[0m     trace_name\u001b[38;5;241m=\u001b[39m_rewrite_name(name\u001b[38;5;241m=\u001b[39mkineto_event\u001b[38;5;241m.\u001b[39mname(), with_wildcard\u001b[38;5;241m=\u001b[39m\u001b[38;5;28;01mFalse\u001b[39;00m),\n\u001b[0;32m--> 569\u001b[0m     thread\u001b[38;5;241m=\u001b[39m\u001b[43mkineto_event\u001b[49m\u001b[38;5;241;43m.\u001b[39;49m\u001b[43mstart_thread_id\u001b[49m\u001b[43m(\u001b[49m\u001b[43m)\u001b[49m,\n\u001b[1;32m    570\u001b[0m     start_us\u001b[38;5;241m=\u001b[39mrel_start_ns \u001b[38;5;241m/\u001b[39m \u001b[38;5;241m1000\u001b[39m,\n\u001b[1;32m    571\u001b[0m     end_us\u001b[38;5;241m=\u001b[39mrel_end_ns \u001b[38;5;241m/\u001b[39m \u001b[38;5;241m1000\u001b[39m,\n\u001b[1;32m    572\u001b[0m     fwd_thread\u001b[38;5;241m=\u001b[39mkineto_event\u001b[38;5;241m.\u001b[39mfwd_thread_id(),\n\u001b[1;32m    573\u001b[0m     input_shapes\u001b[38;5;241m=\u001b[39mkineto_event\u001b[38;5;241m.\u001b[39mshapes(),\n\u001b[1;32m    574\u001b[0m     concrete_inputs\u001b[38;5;241m=\u001b[39mkineto_event\u001b[38;5;241m.\u001b[39mconcrete_inputs(),\n\u001b[1;32m    575\u001b[0m     kwinputs\u001b[38;5;241m=\u001b[39mkineto_event\u001b[38;5;241m.\u001b[39mkwinputs(),\n\u001b[1;32m    576\u001b[0m     stack\u001b[38;5;241m=\u001b[39m[\n\u001b[1;32m    577\u001b[0m         entry\n\u001b[1;32m    578\u001b[0m         \u001b[38;5;28;01mfor\u001b[39;00m entry \u001b[38;5;129;01min\u001b[39;00m kineto_event\u001b[38;5;241m.\u001b[39mstack()\n\u001b[1;32m    579\u001b[0m         \u001b[38;5;28;01mif\u001b[39;00m _filter_stack_entry(entry)\n\u001b[1;32m    580\u001b[0m     ],\n\u001b[1;32m    581\u001b[0m     scope\u001b[38;5;241m=\u001b[39mkineto_event\u001b[38;5;241m.\u001b[39mscope(),\n\u001b[1;32m    582\u001b[0m     use_device\u001b[38;5;241m=\u001b[39m\u001b[38;5;28mself\u001b[39m\u001b[38;5;241m.\u001b[39muse_device,\n\u001b[1;32m    583\u001b[0m     cpu_memory_usage\u001b[38;5;241m=\u001b[39mcpu_memory_usage,\n\u001b[1;32m    584\u001b[0m     device_memory_usage\u001b[38;5;241m=\u001b[39mdevice_memory_usage,\n\u001b[1;32m    585\u001b[0m     is_async\u001b[38;5;241m=\u001b[39mis_async,\n\u001b[1;32m    586\u001b[0m     sequence_nr\u001b[38;5;241m=\u001b[39mkineto_event\u001b[38;5;241m.\u001b[39msequence_nr(),\n\u001b[1;32m    587\u001b[0m     device_type\u001b[38;5;241m=\u001b[39mkineto_event\u001b[38;5;241m.\u001b[39mdevice_type(),\n\u001b[1;32m    588\u001b[0m     device_index\u001b[38;5;241m=\u001b[39mkineto_event\u001b[38;5;241m.\u001b[39mdevice_index(),\n\u001b[1;32m    589\u001b[0m     device_resource_id\u001b[38;5;241m=\u001b[39mkineto_event\u001b[38;5;241m.\u001b[39mdevice_resource_id(),\n\u001b[1;32m    590\u001b[0m     flops\u001b[38;5;241m=\u001b[39mkineto_event\u001b[38;5;241m.\u001b[39mflops(),\n\u001b[1;32m    591\u001b[0m     is_user_annotation\u001b[38;5;241m=\u001b[39mkineto_event\u001b[38;5;241m.\u001b[39mis_user_annotation(),\n\u001b[1;32m    592\u001b[0m )\n\u001b[1;32m    593\u001b[0m max_evt_id \u001b[38;5;241m=\u001b[39m \u001b[38;5;28mmax\u001b[39m(max_evt_id, fe\u001b[38;5;241m.\u001b[39mid)\n\u001b[1;32m    594\u001b[0m \u001b[38;5;28;01mif\u001b[39;00m fe\u001b[38;5;241m.\u001b[39mdevice_type \u001b[38;5;241m==\u001b[39m DeviceType\u001b[38;5;241m.\u001b[39mCPU \u001b[38;5;129;01mand\u001b[39;00m \u001b[38;5;129;01mnot\u001b[39;00m fe\u001b[38;5;241m.\u001b[39mis_async:\n",
      "\u001b[0;31mKeyboardInterrupt\u001b[0m: "
     ]
    }
   ],
   "source": [
    "batch_runs_ = []\n",
    "\n",
    "for n in [8, 16, 32, 64,128, 256, 512, 1024, 2048, 4096]:\n",
    "    print(f\"running - batch size - {n}\")\n",
    "    cosmic.set_batch_size(n)\n",
    "    results = cosmic.run_inference()\n",
    "    batch_runs_.append(results)\n",
    "\n",
    "df_baseline = get_reporting_table(batch_runs_, \"baseline_vary_batch\")\n",
    "df_baseline"
   ]
  },
  {
   "cell_type": "code",
   "execution_count": null,
   "metadata": {},
   "outputs": [],
   "source": [
    "fig, ax = plt.subplots(2, 1)\n",
    "\n",
    "fig.suptitle('Exploring Compute Time ', fontsize=14)\n",
    "\n",
    "sns.lineplot(data=df_baseline, x = \"total_cpu_memory\", y = \"total_cpu_time\", ax = ax[0]).set(title = \"CPU Time vs Total Memory\", xlabel = \"Total Memory (Mb)\", ylabel =\"Total CPU Time (s)\")\n",
    "plt.axhline(y=14.56, color='red', linestyle='--', linewidth=2, label='Default Time')\n",
    "\n",
    "sns.lineplot(data=df_baseline, x = \"batch_size\", y = \"total_cpu_time\",ax = ax[1]).set(title = \"CPU TIME vs Batch size\", xlabel = \"Batch size\", ylabel =\"Total CPU Time (s)\")\n",
    "sns.scatterplot(data=df_baseline, x='batch_size', y='total_cpu_time', ax=ax[1], color='red')\n",
    "plt.axhline(y=14.56, color='orange', linestyle='--', linewidth=0.1,alpha=0.5, label='Default Time')\n",
    "\n",
    "plt.tight_layout()\n",
    "plt.show()"
   ]
  },
  {
   "cell_type": "markdown",
   "metadata": {},
   "source": [
    "***\n",
    "\n",
    "* Increasing the Batch size increases the memory used but also slows down the computer time for an inference.\n",
    "* if rerun there will be some variability in the baseline"
   ]
  },
  {
   "cell_type": "markdown",
   "metadata": {},
   "source": [
    "## Vary Model Size of the Data\n",
    "\n",
    "* for ease right now keep the same size of the batch can vary depending on runtime.\n",
    "* same data as the training data, don't expect model performance to change\n",
    "* here we simulate different sizes of the training data [1G, 3G,5G, 10G, 13G], reminder the default read is for a model of 15 MB"
   ]
  },
  {
   "cell_type": "code",
   "execution_count": null,
   "metadata": {},
   "outputs": [],
   "source": [
    "# might need to run notebook 99_load_data.ipynb (can take between 1- 6 hours depending on connection)\n",
    "\n",
    "!du -h ..//data/raw/cosmic_data"
   ]
  },
  {
   "cell_type": "code",
   "execution_count": null,
   "metadata": {},
   "outputs": [],
   "source": [
    "# each of the tensors is some the size as listed on the directory\n",
    "!du -h ..//data/raw/cosmic_data/10MB/10.pt\n",
    "!du -h ..//data/raw/cosmic_data/100MB/10.pt\n",
    "\n",
    "# example matching\n",
    "!ls ..//data/raw/cosmic_data/100MB/{1..10}.pt"
   ]
  },
  {
   "cell_type": "code",
   "execution_count": 152,
   "metadata": {},
   "outputs": [],
   "source": [
    "!mkdir -p ..//data/raw/cosmic_data/large_files\n",
    "\n",
    "!cat ..//data/raw/cosmic_data/100MB/{1..10}.pt > ..//data/raw/cosmic_data/large_files/01_gb.pt\n",
    "!cat ..//data/raw/cosmic_data/100MB/{1..30}.pt > ..//data/raw/cosmic_data/large_files/03_gb.pt\n",
    "!cat ..//data/raw/cosmic_data/100MB/{1..50}.pt > ..//data/raw/cosmic_data/large_files/05_gb.pt\n",
    "!cat ..//data/raw/cosmic_data/100MB/{1..100}.pt > ..//data/raw/cosmic_data/large_files/10_gb.pt\n",
    "!cat ..//data/raw/cosmic_data/100MB/*.pt > ..//data/raw/cosmic_data/large_files/13_gb.pt\n"
   ]
  },
  {
   "cell_type": "code",
   "execution_count": null,
   "metadata": {},
   "outputs": [],
   "source": [
    "#roughly there -- showing file sizes\n",
    "!du -h ..//data/raw/cosmic_data/large_files/*"
   ]
  },
  {
   "cell_type": "code",
   "execution_count": null,
   "metadata": {},
   "outputs": [],
   "source": [
    "paths_ = glob(\"..//data/raw/cosmic_data/large_files/*.pt\") # order isn't a guarantee here but it should be ordered\n",
    "runtimes_ = []\n",
    "\n",
    "\n",
    "for path in paths_:\n",
    "    print(f\"running path -- {path}\")\n",
    "    cosmic.set_data_path(path)\n",
    "    cosmic.load_data()\n",
    "    results = cosmic.run_inference()\n",
    "    runtimes_.append(results)\n",
    "\n",
    "df_baseline = get_reporting_table(runtimes_, \"baseline_vary_datasizes\")\n",
    "df_baseline = df_baseline.assign(file_run = paths_)\n",
    "df_baseline.to_csv(\"..//data/interim/baseline_vary_datasizes_with_filesize.csv\", index=False)\n",
    "\n",
    "df_baseline"
   ]
  },
  {
   "cell_type": "code",
   "execution_count": 2,
   "metadata": {},
   "outputs": [],
   "source": [
    "# clean up\n",
    "!rm -rf ..//data/raw/cosmic_data/large_files"
   ]
  },
  {
   "cell_type": "code",
   "execution_count": 10,
   "metadata": {},
   "outputs": [],
   "source": [
    "# TODO add plots for these"
   ]
  }
 ],
 "metadata": {
  "kernelspec": {
   "display_name": "PROJECT_venv",
   "language": "python",
   "name": "project_venv"
  },
  "language_info": {
   "codemirror_mode": {
    "name": "ipython",
    "version": 3
   },
   "file_extension": ".py",
   "mimetype": "text/x-python",
   "name": "python",
   "nbconvert_exporter": "python",
   "pygments_lexer": "ipython3",
   "version": "3.11.8"
  }
 },
 "nbformat": 4,
 "nbformat_minor": 2
}
