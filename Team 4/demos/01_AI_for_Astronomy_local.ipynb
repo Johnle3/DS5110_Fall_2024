{
 "cells": [
  {
   "cell_type": "markdown",
   "metadata": {},
   "source": [
    "# Objective\n",
    "\n",
    "This is to show and compare local runs for the `Ai-for-Astronmy` inference model, concerned with getting a baseline reading for\n",
    "\n",
    "1) different batch sizes\n",
    "2) different data sizes\n",
    "3) if possible different batch on different data sizes\n",
    "\n",
    "Because this is run on a local machine without a GPU only a CPU is available\n",
    "\n",
    "***"
   ]
  },
  {
   "cell_type": "code",
   "execution_count": 1,
   "metadata": {},
   "outputs": [],
   "source": [
    "# !pip install tensorflow\n",
    "# not strictly necessary consider only for notebook or adding to requirements.txt[dev]\n",
    "\n",
    "# pip install torch-summary\n",
    "# not strictly necessary consider only for notebook or adding to requirements.txt[dev]\n",
    "\n",
    "# make sure astronomy for ai is updated\n",
    "# !cd ..// && make update_Astronomy_AI"
   ]
  },
  {
   "cell_type": "code",
   "execution_count": 2,
   "metadata": {},
   "outputs": [
    {
     "name": "stdout",
     "output_type": "stream",
     "text": [
      "3.11.8 (v3.11.8:db85d51d3e, Feb  6 2024, 18:02:37) [Clang 13.0.0 (clang-1300.0.29.30)]\n",
      "2.18.0\n"
     ]
    }
   ],
   "source": [
    "from glob import glob\n",
    "import sys\n",
    "\n",
    "import matplotlib.pyplot as plt\n",
    "import pandas as pd\n",
    "import platform\n",
    "import psutil\n",
    "import tensorflow as tf\n",
    "from torchsummary import summary\n",
    "import seaborn as sns\n",
    "import yaml\n",
    "\n",
    "from cosmicai.inference import CosmicAI\n",
    "import warnings\n",
    "\n",
    "# some model weight warnings\n",
    "warnings.filterwarnings(\"ignore\")\n",
    "\n",
    "with open(\"../keys/aws_credentials.yaml\", \"r\") as f:\n",
    "    credentials = yaml.safe_load(f)\n",
    "\n",
    "plt.rcParams[\"figure.figsize\"] = (11, 8)\n",
    "\n",
    "print(sys.version)\n",
    "print(tf.__version__)"
   ]
  },
  {
   "cell_type": "code",
   "execution_count": 3,
   "metadata": {},
   "outputs": [
    {
     "name": "stdout",
     "output_type": "stream",
     "text": [
      "Darwin\n",
      "arm\n",
      "Total Memory: 48.00 GB\n",
      "Available Memory: 33.36 GB\n",
      "Used Memory: 11.18 GB\n",
      "Free Memory: 26.31 GB\n",
      "[PhysicalDevice(name='/physical_device:CPU:0', device_type='CPU')]\n"
     ]
    }
   ],
   "source": [
    "print(platform.system()) # mac - Darwin\n",
    "print(platform.processor()) # cpu\n",
    "\n",
    "# Get system memory info\n",
    "memory = psutil.virtual_memory()\n",
    "print(f\"Total Memory: {memory.total / (1024 ** 3):.2f} GB\")\n",
    "print(f\"Available Memory: {memory.available / (1024 ** 3):.2f} GB\")\n",
    "print(f\"Used Memory: {memory.used / (1024 ** 3):.2f} GB\")\n",
    "print(f\"Free Memory: {memory.free / (1024 ** 3):.2f} GB\")\n",
    "\n",
    "devices = tf.config.list_physical_devices()\n",
    "print(devices) # only cpu on local\n"
   ]
  },
  {
   "cell_type": "markdown",
   "metadata": {},
   "source": [
    "## Load the Cosmic AI instance"
   ]
  },
  {
   "cell_type": "code",
   "execution_count": 4,
   "metadata": {},
   "outputs": [
    {
     "name": "stdout",
     "output_type": "stream",
     "text": [
      " 25M\t../data/models/default_model_data/resized_inference.pt\n",
      " 61M\t../data/models/Mixed_Inception_z_VITAE_Base_Img_Full_New_Full.pt\n"
     ]
    }
   ],
   "source": [
    "!du -h ../data/models/default_model_data/resized_inference.pt # data size\n",
    "!du -h ../data/models/Mixed_Inception_z_VITAE_Base_Img_Full_New_Full.pt # model size"
   ]
  },
  {
   "cell_type": "code",
   "execution_count": 5,
   "metadata": {},
   "outputs": [
    {
     "name": "stdout",
     "output_type": "stream",
     "text": [
      "loading data from - ../data/models/default_model_data/resized_inference.pt\n",
      "loading the model from  ../data/models/Mixed_Inception_z_VITAE_Base_Img_Full_New_Full.pt\n"
     ]
    }
   ],
   "source": [
    "cosmic = CosmicAI()\n",
    "cosmic.load_data() \n",
    "cosmic.load_model()"
   ]
  },
  {
   "cell_type": "markdown",
   "metadata": {},
   "source": [
    "### Visualize the Model Weights\n",
    "***\n",
    "\n",
    "* keras style visualizer, not required and shouldn't be loaded with requirements just visualizing"
   ]
  },
  {
   "cell_type": "code",
   "execution_count": 6,
   "metadata": {},
   "outputs": [
    {
     "name": "stdout",
     "output_type": "stream",
     "text": [
      "=================================================================\n",
      "Layer (type:depth-idx)                   Param #\n",
      "=================================================================\n",
      "├─LayerNorm: 1-1                         384\n",
      "├─Linear: 1-2                            37,056\n",
      "├─Input_Mix_Model: 1-3                   --\n",
      "|    └─Conv2d: 2-1                       192\n",
      "|    └─AvgPool2d: 2-2                    --\n",
      "|    └─AvgPool2d: 2-3                    --\n",
      "|    └─Sequential: 2-4                   --\n",
      "|    |    └─Linear: 3-1                  6,144\n",
      "|    |    └─ReLU: 3-2                    --\n",
      "|    |    └─Linear: 3-3                  1,049,600\n",
      "|    |    └─ReLU: 3-4                    --\n",
      "|    |    └─Linear: 3-5                  1,049,600\n",
      "|    |    └─ReLU: 3-6                    --\n",
      "|    |    └─Linear: 3-7                  1,049,600\n",
      "|    |    └─ReLU: 3-8                    --\n",
      "|    |    └─Linear: 3-9                  1,049,600\n",
      "|    └─Sequential: 2-5                   --\n",
      "|    |    └─Conv2d: 3-10                 (recursive)\n",
      "|    |    └─AvgPool2d: 3-11              --\n",
      "|    |    └─InceptionBlock: 3-12         11,040\n",
      "|    |    └─InceptionBlock: 3-13         13,088\n",
      "|    |    └─AvgPool2d: 3-14              --\n",
      "|    |    └─InceptionBlock: 3-15         4,368\n",
      "|    |    └─InceptionBlock: 3-16         3,344\n",
      "|    |    └─AvgPool2d: 3-17              --\n",
      "|    |    └─InceptionBlock: 3-18         1,128\n",
      "|    |    └─Flatten: 3-19                --\n",
      "|    |    └─Linear: 3-20                 211,528\n",
      "|    |    └─ReLU: 3-21                   --\n",
      "|    |    └─Linear: 3-22                 1,202,312\n",
      "├─ModuleList: 1-4                        --\n",
      "|    └─NormalCell: 2-6                   --\n",
      "|    |    └─LayerNorm: 3-23              (384)\n",
      "|    |    └─Attention: 3-24              (148,032)\n",
      "|    |    └─Identity: 3-25               --\n",
      "|    |    └─LayerNorm: 3-26              (384)\n",
      "|    |    └─Mlp: 3-27                    (295,872)\n",
      "|    |    └─Sequential: 3-28             (8,640)\n",
      "|    └─NormalCell: 2-7                   --\n",
      "|    |    └─LayerNorm: 3-29              (384)\n",
      "|    |    └─Attention: 3-30              (148,032)\n",
      "|    |    └─Identity: 3-31               --\n",
      "|    |    └─LayerNorm: 3-32              (384)\n",
      "|    |    └─Mlp: 3-33                    (295,872)\n",
      "|    |    └─Sequential: 3-34             (8,640)\n",
      "|    └─NormalCell: 2-8                   --\n",
      "|    |    └─LayerNorm: 3-35              (384)\n",
      "|    |    └─Attention: 3-36              (148,032)\n",
      "|    |    └─Identity: 3-37               --\n",
      "|    |    └─LayerNorm: 3-38              (384)\n",
      "|    |    └─Mlp: 3-39                    (295,872)\n",
      "|    |    └─Sequential: 3-40             (8,640)\n",
      "|    └─NormalCell: 2-9                   --\n",
      "|    |    └─LayerNorm: 3-41              (384)\n",
      "|    |    └─Attention: 3-42              (148,032)\n",
      "|    |    └─Identity: 3-43               --\n",
      "|    |    └─LayerNorm: 3-44              (384)\n",
      "|    |    └─Mlp: 3-45                    (295,872)\n",
      "|    |    └─Sequential: 3-46             (8,640)\n",
      "|    └─NormalCell: 2-10                  --\n",
      "|    |    └─LayerNorm: 3-47              (384)\n",
      "|    |    └─Attention: 3-48              (148,032)\n",
      "|    |    └─Identity: 3-49               --\n",
      "|    |    └─LayerNorm: 3-50              (384)\n",
      "|    |    └─Mlp: 3-51                    (295,872)\n",
      "|    |    └─Sequential: 3-52             (8,640)\n",
      "|    └─NormalCell: 2-11                  --\n",
      "|    |    └─LayerNorm: 3-53              (384)\n",
      "|    |    └─Attention: 3-54              (148,032)\n",
      "|    |    └─Identity: 3-55               --\n",
      "|    |    └─LayerNorm: 3-56              (384)\n",
      "|    |    └─Mlp: 3-57                    (295,872)\n",
      "|    |    └─Sequential: 3-58             (8,640)\n",
      "|    └─NormalCell: 2-12                  --\n",
      "|    |    └─LayerNorm: 3-59              (384)\n",
      "|    |    └─Attention: 3-60              (148,032)\n",
      "|    |    └─Identity: 3-61               --\n",
      "|    |    └─LayerNorm: 3-62              (384)\n",
      "|    |    └─Mlp: 3-63                    (295,872)\n",
      "|    |    └─Sequential: 3-64             (8,640)\n",
      "|    └─NormalCell: 2-13                  --\n",
      "|    |    └─LayerNorm: 3-65              (384)\n",
      "|    |    └─Attention: 3-66              (148,032)\n",
      "|    |    └─Identity: 3-67               --\n",
      "|    |    └─LayerNorm: 3-68              (384)\n",
      "|    |    └─Mlp: 3-69                    (295,872)\n",
      "|    |    └─Sequential: 3-70             (8,640)\n",
      "|    └─NormalCell: 2-14                  --\n",
      "|    |    └─LayerNorm: 3-71              (384)\n",
      "|    |    └─Attention: 3-72              (148,032)\n",
      "|    |    └─Identity: 3-73               --\n",
      "|    |    └─LayerNorm: 3-74              (384)\n",
      "|    |    └─Mlp: 3-75                    (295,872)\n",
      "|    |    └─Sequential: 3-76             (8,640)\n",
      "|    └─NormalCell: 2-15                  --\n",
      "|    |    └─LayerNorm: 3-77              (384)\n",
      "|    |    └─Attention: 3-78              (148,032)\n",
      "|    |    └─Identity: 3-79               --\n",
      "|    |    └─LayerNorm: 3-80              (384)\n",
      "|    |    └─Mlp: 3-81                    (295,872)\n",
      "|    |    └─Sequential: 3-82             (8,640)\n",
      "|    └─NormalCell: 2-16                  --\n",
      "|    |    └─LayerNorm: 3-83              (384)\n",
      "|    |    └─Attention: 3-84              (148,032)\n",
      "|    |    └─Identity: 3-85               --\n",
      "|    |    └─LayerNorm: 3-86              (384)\n",
      "|    |    └─Mlp: 3-87                    (295,872)\n",
      "|    |    └─Sequential: 3-88             (8,640)\n",
      "|    └─NormalCell: 2-17                  --\n",
      "|    |    └─LayerNorm: 3-89              (384)\n",
      "|    |    └─Attention: 3-90              (148,032)\n",
      "|    |    └─Identity: 3-91               --\n",
      "|    |    └─LayerNorm: 3-92              (384)\n",
      "|    |    └─Mlp: 3-93                    (295,872)\n",
      "|    |    └─Sequential: 3-94             (8,640)\n",
      "├─PatchEmbed: 1-5                        --\n",
      "|    └─Conv2d: 2-18                      (61,632)\n",
      "|    └─Identity: 2-19                    --\n",
      "├─Sequential: 1-6                        --\n",
      "|    └─Linear: 2-20                      211,528\n",
      "|    └─ReLU: 2-21                        --\n",
      "|    └─Linear: 2-22                      1,202,312\n",
      "├─Sequential: 1-7                        --\n",
      "|    └─Linear: 2-23                      3,294,208\n",
      "|    └─ReLU: 2-24                        --\n",
      "|    └─Linear: 2-25                      1,025\n",
      "=================================================================\n",
      "Total params: 15,899,433\n",
      "Trainable params: 10,398,057\n",
      "Non-trainable params: 5,501,376\n",
      "=================================================================\n"
     ]
    },
    {
     "data": {
      "text/plain": [
       "=================================================================\n",
       "Layer (type:depth-idx)                   Param #\n",
       "=================================================================\n",
       "├─LayerNorm: 1-1                         384\n",
       "├─Linear: 1-2                            37,056\n",
       "├─Input_Mix_Model: 1-3                   --\n",
       "|    └─Conv2d: 2-1                       192\n",
       "|    └─AvgPool2d: 2-2                    --\n",
       "|    └─AvgPool2d: 2-3                    --\n",
       "|    └─Sequential: 2-4                   --\n",
       "|    |    └─Linear: 3-1                  6,144\n",
       "|    |    └─ReLU: 3-2                    --\n",
       "|    |    └─Linear: 3-3                  1,049,600\n",
       "|    |    └─ReLU: 3-4                    --\n",
       "|    |    └─Linear: 3-5                  1,049,600\n",
       "|    |    └─ReLU: 3-6                    --\n",
       "|    |    └─Linear: 3-7                  1,049,600\n",
       "|    |    └─ReLU: 3-8                    --\n",
       "|    |    └─Linear: 3-9                  1,049,600\n",
       "|    └─Sequential: 2-5                   --\n",
       "|    |    └─Conv2d: 3-10                 (recursive)\n",
       "|    |    └─AvgPool2d: 3-11              --\n",
       "|    |    └─InceptionBlock: 3-12         11,040\n",
       "|    |    └─InceptionBlock: 3-13         13,088\n",
       "|    |    └─AvgPool2d: 3-14              --\n",
       "|    |    └─InceptionBlock: 3-15         4,368\n",
       "|    |    └─InceptionBlock: 3-16         3,344\n",
       "|    |    └─AvgPool2d: 3-17              --\n",
       "|    |    └─InceptionBlock: 3-18         1,128\n",
       "|    |    └─Flatten: 3-19                --\n",
       "|    |    └─Linear: 3-20                 211,528\n",
       "|    |    └─ReLU: 3-21                   --\n",
       "|    |    └─Linear: 3-22                 1,202,312\n",
       "├─ModuleList: 1-4                        --\n",
       "|    └─NormalCell: 2-6                   --\n",
       "|    |    └─LayerNorm: 3-23              (384)\n",
       "|    |    └─Attention: 3-24              (148,032)\n",
       "|    |    └─Identity: 3-25               --\n",
       "|    |    └─LayerNorm: 3-26              (384)\n",
       "|    |    └─Mlp: 3-27                    (295,872)\n",
       "|    |    └─Sequential: 3-28             (8,640)\n",
       "|    └─NormalCell: 2-7                   --\n",
       "|    |    └─LayerNorm: 3-29              (384)\n",
       "|    |    └─Attention: 3-30              (148,032)\n",
       "|    |    └─Identity: 3-31               --\n",
       "|    |    └─LayerNorm: 3-32              (384)\n",
       "|    |    └─Mlp: 3-33                    (295,872)\n",
       "|    |    └─Sequential: 3-34             (8,640)\n",
       "|    └─NormalCell: 2-8                   --\n",
       "|    |    └─LayerNorm: 3-35              (384)\n",
       "|    |    └─Attention: 3-36              (148,032)\n",
       "|    |    └─Identity: 3-37               --\n",
       "|    |    └─LayerNorm: 3-38              (384)\n",
       "|    |    └─Mlp: 3-39                    (295,872)\n",
       "|    |    └─Sequential: 3-40             (8,640)\n",
       "|    └─NormalCell: 2-9                   --\n",
       "|    |    └─LayerNorm: 3-41              (384)\n",
       "|    |    └─Attention: 3-42              (148,032)\n",
       "|    |    └─Identity: 3-43               --\n",
       "|    |    └─LayerNorm: 3-44              (384)\n",
       "|    |    └─Mlp: 3-45                    (295,872)\n",
       "|    |    └─Sequential: 3-46             (8,640)\n",
       "|    └─NormalCell: 2-10                  --\n",
       "|    |    └─LayerNorm: 3-47              (384)\n",
       "|    |    └─Attention: 3-48              (148,032)\n",
       "|    |    └─Identity: 3-49               --\n",
       "|    |    └─LayerNorm: 3-50              (384)\n",
       "|    |    └─Mlp: 3-51                    (295,872)\n",
       "|    |    └─Sequential: 3-52             (8,640)\n",
       "|    └─NormalCell: 2-11                  --\n",
       "|    |    └─LayerNorm: 3-53              (384)\n",
       "|    |    └─Attention: 3-54              (148,032)\n",
       "|    |    └─Identity: 3-55               --\n",
       "|    |    └─LayerNorm: 3-56              (384)\n",
       "|    |    └─Mlp: 3-57                    (295,872)\n",
       "|    |    └─Sequential: 3-58             (8,640)\n",
       "|    └─NormalCell: 2-12                  --\n",
       "|    |    └─LayerNorm: 3-59              (384)\n",
       "|    |    └─Attention: 3-60              (148,032)\n",
       "|    |    └─Identity: 3-61               --\n",
       "|    |    └─LayerNorm: 3-62              (384)\n",
       "|    |    └─Mlp: 3-63                    (295,872)\n",
       "|    |    └─Sequential: 3-64             (8,640)\n",
       "|    └─NormalCell: 2-13                  --\n",
       "|    |    └─LayerNorm: 3-65              (384)\n",
       "|    |    └─Attention: 3-66              (148,032)\n",
       "|    |    └─Identity: 3-67               --\n",
       "|    |    └─LayerNorm: 3-68              (384)\n",
       "|    |    └─Mlp: 3-69                    (295,872)\n",
       "|    |    └─Sequential: 3-70             (8,640)\n",
       "|    └─NormalCell: 2-14                  --\n",
       "|    |    └─LayerNorm: 3-71              (384)\n",
       "|    |    └─Attention: 3-72              (148,032)\n",
       "|    |    └─Identity: 3-73               --\n",
       "|    |    └─LayerNorm: 3-74              (384)\n",
       "|    |    └─Mlp: 3-75                    (295,872)\n",
       "|    |    └─Sequential: 3-76             (8,640)\n",
       "|    └─NormalCell: 2-15                  --\n",
       "|    |    └─LayerNorm: 3-77              (384)\n",
       "|    |    └─Attention: 3-78              (148,032)\n",
       "|    |    └─Identity: 3-79               --\n",
       "|    |    └─LayerNorm: 3-80              (384)\n",
       "|    |    └─Mlp: 3-81                    (295,872)\n",
       "|    |    └─Sequential: 3-82             (8,640)\n",
       "|    └─NormalCell: 2-16                  --\n",
       "|    |    └─LayerNorm: 3-83              (384)\n",
       "|    |    └─Attention: 3-84              (148,032)\n",
       "|    |    └─Identity: 3-85               --\n",
       "|    |    └─LayerNorm: 3-86              (384)\n",
       "|    |    └─Mlp: 3-87                    (295,872)\n",
       "|    |    └─Sequential: 3-88             (8,640)\n",
       "|    └─NormalCell: 2-17                  --\n",
       "|    |    └─LayerNorm: 3-89              (384)\n",
       "|    |    └─Attention: 3-90              (148,032)\n",
       "|    |    └─Identity: 3-91               --\n",
       "|    |    └─LayerNorm: 3-92              (384)\n",
       "|    |    └─Mlp: 3-93                    (295,872)\n",
       "|    |    └─Sequential: 3-94             (8,640)\n",
       "├─PatchEmbed: 1-5                        --\n",
       "|    └─Conv2d: 2-18                      (61,632)\n",
       "|    └─Identity: 2-19                    --\n",
       "├─Sequential: 1-6                        --\n",
       "|    └─Linear: 2-20                      211,528\n",
       "|    └─ReLU: 2-21                        --\n",
       "|    └─Linear: 2-22                      1,202,312\n",
       "├─Sequential: 1-7                        --\n",
       "|    └─Linear: 2-23                      3,294,208\n",
       "|    └─ReLU: 2-24                        --\n",
       "|    └─Linear: 2-25                      1,025\n",
       "=================================================================\n",
       "Total params: 15,899,433\n",
       "Trainable params: 10,398,057\n",
       "Non-trainable params: 5,501,376\n",
       "================================================================="
      ]
     },
     "execution_count": 6,
     "metadata": {},
     "output_type": "execute_result"
    }
   ],
   "source": [
    "summary(cosmic.model)"
   ]
  },
  {
   "cell_type": "markdown",
   "metadata": {},
   "source": [
    "## Run the Model\n",
    "* default data loaded, trying to get a baseline"
   ]
  },
  {
   "cell_type": "code",
   "execution_count": 7,
   "metadata": {},
   "outputs": [
    {
     "data": {
      "text/plain": [
       "{'total_cpu_time': 14.842792862000003,\n",
       " 'total_cpu_memory': 29616.30864,\n",
       " 'execution_time_per_batch': 4.947597620666667,\n",
       " 'num_batches': 3,\n",
       " 'batch_size': 512,\n",
       " 'device': 'cpu',\n",
       " 'throughput_bps': 13858071.180566473}"
      ]
     },
     "execution_count": 7,
     "metadata": {},
     "output_type": "execute_result"
    }
   ],
   "source": [
    "cosmic.run_inference()"
   ]
  },
  {
   "cell_type": "markdown",
   "metadata": {},
   "source": [
    "## Vary the Batch Sizes\n",
    "***\n",
    "\n",
    "### Batch Sizes\n",
    "* `512` is the baseline already run above\n",
    "\n",
    "```yaml\n",
    "small: [8, 16, 32, 64]\n",
    "medium: [128, 256]\n",
    "large: [`512`, 1024, 2048, 4096]\n",
    "```\n",
    "NOTE:\n",
    "* throughput is the rate at which a model processes data, more complex models have a higher through put"
   ]
  },
  {
   "cell_type": "code",
   "execution_count": 8,
   "metadata": {},
   "outputs": [],
   "source": [
    "def get_reporting_table(runs_:list, fn:str = None) -> pd.DataFrame:\n",
    "    \"\"\"Give a standard reporting table for a list of the results json.\"\"\"\n",
    "    pd.set_option('display.float_format', lambda x: '%.2f' % x) # change scientific notation\n",
    "\n",
    "    df = pd.DataFrame(runs_) # input: list of dicts\n",
    "    df = df.assign(throughput_mbps = df[\"throughput_bps\"].div(1000000.0)) # bps -> mbps\n",
    "\n",
    "    if fn is None:\n",
    "        raise(\"need to specify the file name of the output\")\n",
    "        df.to_csv(f\"..//data/interim/{fn}.csv\", index=False)\n",
    "\n",
    "    return df"
   ]
  },
  {
   "cell_type": "code",
   "execution_count": null,
   "metadata": {},
   "outputs": [
    {
     "name": "stdout",
     "output_type": "stream",
     "text": [
      "running - batch size - 8\n"
     ]
    }
   ],
   "source": [
    "batch_runs_ = []\n",
    "\n",
    "for n in [8, 16, 32, 64,128, 256, 512, 1024, 2048, 4096]:\n",
    "    print(f\"running - batch size - {n}\")\n",
    "    cosmic.set_batch_size(n)\n",
    "    results = cosmic.run_inference()\n",
    "    batch_runs_.append(results)\n",
    "\n",
    "df_baseline = get_reporting_table(batch_runs_, \"baseline_vary_batch\")\n",
    "df_baseline"
   ]
  },
  {
   "cell_type": "code",
   "execution_count": null,
   "metadata": {},
   "outputs": [],
   "source": [
    "fig, ax = plt.subplots(2, 1)\n",
    "\n",
    "fig.suptitle('Exploring Compute Time ', fontsize=14)\n",
    "\n",
    "sns.lineplot(data=df_baseline, x = \"total_cpu_memory\", y = \"total_cpu_time\", ax = ax[0]).set(title = \"CPU Time vs Total Memory\", xlabel = \"Total Memory (Mb)\", ylabel =\"Total CPU Time (s)\")\n",
    "plt.axhline(y=14.56, color='red', linestyle='--', linewidth=2, label='Default Time')\n",
    "\n",
    "sns.lineplot(data=df_baseline, x = \"batch_size\", y = \"total_cpu_time\",ax = ax[1]).set(title = \"CPU TIME vs Batch size\", xlabel = \"Batch size\", ylabel =\"Total CPU Time (s)\")\n",
    "sns.scatterplot(data=df_baseline, x='batch_size', y='total_cpu_time', ax=ax[1], color='red')\n",
    "plt.axhline(y=14.56, color='orange', linestyle='--', linewidth=0.1,alpha=0.5, label='Default Time')\n",
    "\n",
    "plt.tight_layout()\n",
    "plt.show()"
   ]
  },
  {
   "cell_type": "markdown",
   "metadata": {},
   "source": [
    "***\n",
    "\n",
    "* Increasing the Batch size increases the memory used but also slows down the computer time for an inference.\n",
    "* if rerun there will be some variability in the baseline"
   ]
  },
  {
   "cell_type": "markdown",
   "metadata": {},
   "source": [
    "## Vary Model Size of the Data\n",
    "\n",
    "* for ease right now keep the same size of the batch can vary depending on runtime.\n",
    "* same data as the training data, don't expect model performance to change\n",
    "* here we simulate different sizes of the training data [1G, 3G,5G, 10G, 13G], reminder the default read is for a model of 15 MB"
   ]
  },
  {
   "cell_type": "code",
   "execution_count": null,
   "metadata": {},
   "outputs": [],
   "source": [
    "# might need to run notebook 99_load_data.ipynb (can take between 1- 6 hours depending on connection)\n",
    "\n",
    "!du -h ..//data/raw/cosmic_data"
   ]
  },
  {
   "cell_type": "code",
   "execution_count": null,
   "metadata": {},
   "outputs": [],
   "source": [
    "# each of the tensors is some the size as listed on the directory\n",
    "!du -h ..//data/raw/cosmic_data/10MB/10.pt\n",
    "!du -h ..//data/raw/cosmic_data/100MB/10.pt\n",
    "\n",
    "# example matching\n",
    "!ls ..//data/raw/cosmic_data/100MB/{1..10}.pt"
   ]
  },
  {
   "cell_type": "code",
   "execution_count": 152,
   "metadata": {},
   "outputs": [],
   "source": [
    "!mkdir -p ..//data/raw/cosmic_data/large_files\n",
    "\n",
    "!cat ..//data/raw/cosmic_data/100MB/{1..10}.pt > ..//data/raw/cosmic_data/large_files/01_gb.pt\n",
    "!cat ..//data/raw/cosmic_data/100MB/{1..30}.pt > ..//data/raw/cosmic_data/large_files/03_gb.pt\n",
    "!cat ..//data/raw/cosmic_data/100MB/{1..50}.pt > ..//data/raw/cosmic_data/large_files/05_gb.pt\n",
    "!cat ..//data/raw/cosmic_data/100MB/{1..100}.pt > ..//data/raw/cosmic_data/large_files/10_gb.pt\n",
    "!cat ..//data/raw/cosmic_data/100MB/*.pt > ..//data/raw/cosmic_data/large_files/13_gb.pt\n"
   ]
  },
  {
   "cell_type": "code",
   "execution_count": null,
   "metadata": {},
   "outputs": [],
   "source": [
    "#roughly there -- showing file sizes\n",
    "!du -h ..//data/raw/cosmic_data/large_files/*"
   ]
  },
  {
   "cell_type": "code",
   "execution_count": null,
   "metadata": {},
   "outputs": [],
   "source": [
    "paths_ = glob(\"..//data/raw/cosmic_data/large_files/*.pt\") # order isn't a guarantee here but it should be ordered\n",
    "runtimes_ = []\n",
    "\n",
    "\n",
    "for path in paths_:\n",
    "    print(f\"running path -- {path}\")\n",
    "    cosmic.set_data_path(path)\n",
    "    cosmic.load_data()\n",
    "    results = cosmic.run_inference()\n",
    "    runtimes_.append(results)\n",
    "\n",
    "df_baseline = get_reporting_table(runtimes_, \"baseline_vary_datasizes\")\n",
    "df_baseline = df_baseline.assign(file_run = paths_)\n",
    "df_baseline.to_csv(\"..//data/interim/baseline_vary_datasizes_with_filesize.csv\", index=False)\n",
    "\n",
    "df_baseline"
   ]
  },
  {
   "cell_type": "code",
   "execution_count": 2,
   "metadata": {},
   "outputs": [],
   "source": [
    "# clean up\n",
    "!rm -rf ..//data/raw/cosmic_data/large_files"
   ]
  },
  {
   "cell_type": "code",
   "execution_count": 10,
   "metadata": {},
   "outputs": [],
   "source": [
    "# TODO add plots for these"
   ]
  }
 ],
 "metadata": {
  "kernelspec": {
   "display_name": "PROJECT_venv",
   "language": "python",
   "name": "project_venv"
  },
  "language_info": {
   "codemirror_mode": {
    "name": "ipython",
    "version": 3
   },
   "file_extension": ".py",
   "mimetype": "text/x-python",
   "name": "python",
   "nbconvert_exporter": "python",
   "pygments_lexer": "ipython3",
   "version": "3.11.8"
  }
 },
 "nbformat": 4,
 "nbformat_minor": 2
}
