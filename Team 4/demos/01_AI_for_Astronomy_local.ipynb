{
 "cells": [
  {
   "cell_type": "markdown",
   "metadata": {},
   "source": [
    "# Objective\n",
    "\n",
    "This is to show and compare local runs for the `Ai-for-Astronmy` lab, concerned with\n",
    "* different batch sizes\n",
    "* different data sizes\n",
    "* any starting graphs for a baseline\n",
    "\n",
    "There are different machines on our team, try to show different machine info"
   ]
  },
  {
   "cell_type": "code",
   "execution_count": 22,
   "metadata": {},
   "outputs": [
    {
     "name": "stdout",
     "output_type": "stream",
     "text": [
      "Darwin\n",
      "arm\n"
     ]
    }
   ],
   "source": [
    "import platform\n",
    "\n",
    "print(platform.system()) # mac - Darwin\n",
    "print(platform.processor()) # cpu"
   ]
  }
 ],
 "metadata": {
  "kernelspec": {
   "display_name": "PROJECT_venv",
   "language": "python",
   "name": "project_venv"
  },
  "language_info": {
   "codemirror_mode": {
    "name": "ipython",
    "version": 3
   },
   "file_extension": ".py",
   "mimetype": "text/x-python",
   "name": "python",
   "nbconvert_exporter": "python",
   "pygments_lexer": "ipython3",
   "version": "3.11.8"
  }
 },
 "nbformat": 4,
 "nbformat_minor": 2
}
