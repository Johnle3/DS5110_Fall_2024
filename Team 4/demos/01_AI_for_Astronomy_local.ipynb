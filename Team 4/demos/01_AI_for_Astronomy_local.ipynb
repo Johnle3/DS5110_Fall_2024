{
 "cells": [
  {
   "cell_type": "markdown",
   "metadata": {},
   "source": [
    "# Objective\n",
    "\n",
    "This is to show and compare local runs for the `Ai-for-Astronmy` lab, concerned with\n",
    "* different batch sizes\n",
    "* different data sizes\n",
    "* any starting graphs for a baseline\n",
    "\n",
    "There are different machines on our team, try to show different machine info\n",
    "\n",
    "## This to try\n",
    "\n",
    "### "
   ]
  },
  {
   "cell_type": "code",
   "execution_count": 1,
   "metadata": {},
   "outputs": [],
   "source": [
    "# !pip install tensorflow\n",
    "# not strictly necessary consider only for notebook or adding to requirements.txt[dev]\n",
    "\n",
    "# make sure astronomy for ai is updated\n",
    "# !cd ..// && make update_Astronomy_AI"
   ]
  },
  {
   "cell_type": "code",
   "execution_count": 2,
   "metadata": {},
   "outputs": [
    {
     "name": "stdout",
     "output_type": "stream",
     "text": [
      "3.11.8 (v3.11.8:db85d51d3e, Feb  6 2024, 18:02:37) [Clang 13.0.0 (clang-1300.0.29.30)]\n",
      "2.18.0\n"
     ]
    }
   ],
   "source": [
    "import sys\n",
    "\n",
    "import matplotlib.pyplot as plt\n",
    "import pandas as pd\n",
    "import platform\n",
    "import psutil\n",
    "import tensorflow as tf\n",
    "import seaborn as sns\n",
    "import yaml\n",
    "\n",
    "from cosmicai.inference import CosmicAI\n",
    "import warnings\n",
    "\n",
    "# some model weight warnings\n",
    "warnings.filterwarnings(\"ignore\")\n",
    "\n",
    "with open(\"../keys/aws_credentials.yaml\", \"r\") as f:\n",
    "    credentials = yaml.safe_load(f)\n",
    "\n",
    "plt.rcParams[\"figure.figsize\"] = (11, 8)\n",
    "\n",
    "print(sys.version)\n",
    "print(tf.__version__)"
   ]
  },
  {
   "cell_type": "code",
   "execution_count": 3,
   "metadata": {},
   "outputs": [
    {
     "name": "stdout",
     "output_type": "stream",
     "text": [
      "Darwin\n",
      "arm\n",
      "Total Memory: 48.00 GB\n",
      "Available Memory: 21.48 GB\n",
      "Used Memory: 15.89 GB\n",
      "Free Memory: 6.35 GB\n",
      "[PhysicalDevice(name='/physical_device:CPU:0', device_type='CPU')]\n"
     ]
    }
   ],
   "source": [
    "print(platform.system()) # mac - Darwin\n",
    "print(platform.processor()) # cpu\n",
    "\n",
    "# Get system memory info\n",
    "memory = psutil.virtual_memory()\n",
    "print(f\"Total Memory: {memory.total / (1024 ** 3):.2f} GB\")\n",
    "print(f\"Available Memory: {memory.available / (1024 ** 3):.2f} GB\")\n",
    "print(f\"Used Memory: {memory.used / (1024 ** 3):.2f} GB\")\n",
    "print(f\"Free Memory: {memory.free / (1024 ** 3):.2f} GB\")\n",
    "\n",
    "devices = tf.config.list_physical_devices()\n",
    "print(devices) # only cpu on local\n"
   ]
  },
  {
   "cell_type": "markdown",
   "metadata": {},
   "source": [
    "## Load the Cosmic AI instance"
   ]
  },
  {
   "cell_type": "code",
   "execution_count": 23,
   "metadata": {},
   "outputs": [
    {
     "name": "stdout",
     "output_type": "stream",
     "text": [
      " 25M\t../data/models/default_model_data/resized_inference.pt\n",
      " 61M\t../data/models/Mixed_Inception_z_VITAE_Base_Img_Full_New_Full.pt\n"
     ]
    }
   ],
   "source": [
    "!du -h ../data/models/default_model_data/resized_inference.pt # data size\n",
    "!du -h ../data/models/Mixed_Inception_z_VITAE_Base_Img_Full_New_Full.pt # model size"
   ]
  },
  {
   "cell_type": "code",
   "execution_count": 6,
   "metadata": {},
   "outputs": [
    {
     "name": "stdout",
     "output_type": "stream",
     "text": [
      "loading data from - ../data/raw/resized_inference.pt\n",
      "loading the model from  ../data/models/Mixed_Inception_z_VITAE_Base_Img_Full_New_Full.pt\n"
     ]
    }
   ],
   "source": [
    "cosmic = CosmicAI()\n",
    "cosmic.load_data() \n",
    "cosmic.load_model()"
   ]
  },
  {
   "cell_type": "markdown",
   "metadata": {},
   "source": [
    "### Visualize the Model Weights\n",
    "***\n",
    "\n",
    "* `!pip install torch-summary`\n",
    "* keras style visualizer, not required and shouldn't be loaded with requirements just visualizing"
   ]
  },
  {
   "cell_type": "code",
   "execution_count": 7,
   "metadata": {},
   "outputs": [
    {
     "name": "stdout",
     "output_type": "stream",
     "text": [
      "=================================================================\n",
      "Layer (type:depth-idx)                   Param #\n",
      "=================================================================\n",
      "├─LayerNorm: 1-1                         384\n",
      "├─Linear: 1-2                            37,056\n",
      "├─Input_Mix_Model: 1-3                   --\n",
      "|    └─Conv2d: 2-1                       192\n",
      "|    └─AvgPool2d: 2-2                    --\n",
      "|    └─AvgPool2d: 2-3                    --\n",
      "|    └─Sequential: 2-4                   --\n",
      "|    |    └─Linear: 3-1                  6,144\n",
      "|    |    └─ReLU: 3-2                    --\n",
      "|    |    └─Linear: 3-3                  1,049,600\n",
      "|    |    └─ReLU: 3-4                    --\n",
      "|    |    └─Linear: 3-5                  1,049,600\n",
      "|    |    └─ReLU: 3-6                    --\n",
      "|    |    └─Linear: 3-7                  1,049,600\n",
      "|    |    └─ReLU: 3-8                    --\n",
      "|    |    └─Linear: 3-9                  1,049,600\n",
      "|    └─Sequential: 2-5                   --\n",
      "|    |    └─Conv2d: 3-10                 (recursive)\n",
      "|    |    └─AvgPool2d: 3-11              --\n",
      "|    |    └─InceptionBlock: 3-12         11,040\n",
      "|    |    └─InceptionBlock: 3-13         13,088\n",
      "|    |    └─AvgPool2d: 3-14              --\n",
      "|    |    └─InceptionBlock: 3-15         4,368\n",
      "|    |    └─InceptionBlock: 3-16         3,344\n",
      "|    |    └─AvgPool2d: 3-17              --\n",
      "|    |    └─InceptionBlock: 3-18         1,128\n",
      "|    |    └─Flatten: 3-19                --\n",
      "|    |    └─Linear: 3-20                 211,528\n",
      "|    |    └─ReLU: 3-21                   --\n",
      "|    |    └─Linear: 3-22                 1,202,312\n",
      "├─ModuleList: 1-4                        --\n",
      "|    └─NormalCell: 2-6                   --\n",
      "|    |    └─LayerNorm: 3-23              (384)\n",
      "|    |    └─Attention: 3-24              (148,032)\n",
      "|    |    └─Identity: 3-25               --\n",
      "|    |    └─LayerNorm: 3-26              (384)\n",
      "|    |    └─Mlp: 3-27                    (295,872)\n",
      "|    |    └─Sequential: 3-28             (8,640)\n",
      "|    └─NormalCell: 2-7                   --\n",
      "|    |    └─LayerNorm: 3-29              (384)\n",
      "|    |    └─Attention: 3-30              (148,032)\n",
      "|    |    └─Identity: 3-31               --\n",
      "|    |    └─LayerNorm: 3-32              (384)\n",
      "|    |    └─Mlp: 3-33                    (295,872)\n",
      "|    |    └─Sequential: 3-34             (8,640)\n",
      "|    └─NormalCell: 2-8                   --\n",
      "|    |    └─LayerNorm: 3-35              (384)\n",
      "|    |    └─Attention: 3-36              (148,032)\n",
      "|    |    └─Identity: 3-37               --\n",
      "|    |    └─LayerNorm: 3-38              (384)\n",
      "|    |    └─Mlp: 3-39                    (295,872)\n",
      "|    |    └─Sequential: 3-40             (8,640)\n",
      "|    └─NormalCell: 2-9                   --\n",
      "|    |    └─LayerNorm: 3-41              (384)\n",
      "|    |    └─Attention: 3-42              (148,032)\n",
      "|    |    └─Identity: 3-43               --\n",
      "|    |    └─LayerNorm: 3-44              (384)\n",
      "|    |    └─Mlp: 3-45                    (295,872)\n",
      "|    |    └─Sequential: 3-46             (8,640)\n",
      "|    └─NormalCell: 2-10                  --\n",
      "|    |    └─LayerNorm: 3-47              (384)\n",
      "|    |    └─Attention: 3-48              (148,032)\n",
      "|    |    └─Identity: 3-49               --\n",
      "|    |    └─LayerNorm: 3-50              (384)\n",
      "|    |    └─Mlp: 3-51                    (295,872)\n",
      "|    |    └─Sequential: 3-52             (8,640)\n",
      "|    └─NormalCell: 2-11                  --\n",
      "|    |    └─LayerNorm: 3-53              (384)\n",
      "|    |    └─Attention: 3-54              (148,032)\n",
      "|    |    └─Identity: 3-55               --\n",
      "|    |    └─LayerNorm: 3-56              (384)\n",
      "|    |    └─Mlp: 3-57                    (295,872)\n",
      "|    |    └─Sequential: 3-58             (8,640)\n",
      "|    └─NormalCell: 2-12                  --\n",
      "|    |    └─LayerNorm: 3-59              (384)\n",
      "|    |    └─Attention: 3-60              (148,032)\n",
      "|    |    └─Identity: 3-61               --\n",
      "|    |    └─LayerNorm: 3-62              (384)\n",
      "|    |    └─Mlp: 3-63                    (295,872)\n",
      "|    |    └─Sequential: 3-64             (8,640)\n",
      "|    └─NormalCell: 2-13                  --\n",
      "|    |    └─LayerNorm: 3-65              (384)\n",
      "|    |    └─Attention: 3-66              (148,032)\n",
      "|    |    └─Identity: 3-67               --\n",
      "|    |    └─LayerNorm: 3-68              (384)\n",
      "|    |    └─Mlp: 3-69                    (295,872)\n",
      "|    |    └─Sequential: 3-70             (8,640)\n",
      "|    └─NormalCell: 2-14                  --\n",
      "|    |    └─LayerNorm: 3-71              (384)\n",
      "|    |    └─Attention: 3-72              (148,032)\n",
      "|    |    └─Identity: 3-73               --\n",
      "|    |    └─LayerNorm: 3-74              (384)\n",
      "|    |    └─Mlp: 3-75                    (295,872)\n",
      "|    |    └─Sequential: 3-76             (8,640)\n",
      "|    └─NormalCell: 2-15                  --\n",
      "|    |    └─LayerNorm: 3-77              (384)\n",
      "|    |    └─Attention: 3-78              (148,032)\n",
      "|    |    └─Identity: 3-79               --\n",
      "|    |    └─LayerNorm: 3-80              (384)\n",
      "|    |    └─Mlp: 3-81                    (295,872)\n",
      "|    |    └─Sequential: 3-82             (8,640)\n",
      "|    └─NormalCell: 2-16                  --\n",
      "|    |    └─LayerNorm: 3-83              (384)\n",
      "|    |    └─Attention: 3-84              (148,032)\n",
      "|    |    └─Identity: 3-85               --\n",
      "|    |    └─LayerNorm: 3-86              (384)\n",
      "|    |    └─Mlp: 3-87                    (295,872)\n",
      "|    |    └─Sequential: 3-88             (8,640)\n",
      "|    └─NormalCell: 2-17                  --\n",
      "|    |    └─LayerNorm: 3-89              (384)\n",
      "|    |    └─Attention: 3-90              (148,032)\n",
      "|    |    └─Identity: 3-91               --\n",
      "|    |    └─LayerNorm: 3-92              (384)\n",
      "|    |    └─Mlp: 3-93                    (295,872)\n",
      "|    |    └─Sequential: 3-94             (8,640)\n",
      "├─PatchEmbed: 1-5                        --\n",
      "|    └─Conv2d: 2-18                      (61,632)\n",
      "|    └─Identity: 2-19                    --\n",
      "├─Sequential: 1-6                        --\n",
      "|    └─Linear: 2-20                      211,528\n",
      "|    └─ReLU: 2-21                        --\n",
      "|    └─Linear: 2-22                      1,202,312\n",
      "├─Sequential: 1-7                        --\n",
      "|    └─Linear: 2-23                      3,294,208\n",
      "|    └─ReLU: 2-24                        --\n",
      "|    └─Linear: 2-25                      1,025\n",
      "=================================================================\n",
      "Total params: 15,899,433\n",
      "Trainable params: 10,398,057\n",
      "Non-trainable params: 5,501,376\n",
      "=================================================================\n"
     ]
    },
    {
     "data": {
      "text/plain": [
       "=================================================================\n",
       "Layer (type:depth-idx)                   Param #\n",
       "=================================================================\n",
       "├─LayerNorm: 1-1                         384\n",
       "├─Linear: 1-2                            37,056\n",
       "├─Input_Mix_Model: 1-3                   --\n",
       "|    └─Conv2d: 2-1                       192\n",
       "|    └─AvgPool2d: 2-2                    --\n",
       "|    └─AvgPool2d: 2-3                    --\n",
       "|    └─Sequential: 2-4                   --\n",
       "|    |    └─Linear: 3-1                  6,144\n",
       "|    |    └─ReLU: 3-2                    --\n",
       "|    |    └─Linear: 3-3                  1,049,600\n",
       "|    |    └─ReLU: 3-4                    --\n",
       "|    |    └─Linear: 3-5                  1,049,600\n",
       "|    |    └─ReLU: 3-6                    --\n",
       "|    |    └─Linear: 3-7                  1,049,600\n",
       "|    |    └─ReLU: 3-8                    --\n",
       "|    |    └─Linear: 3-9                  1,049,600\n",
       "|    └─Sequential: 2-5                   --\n",
       "|    |    └─Conv2d: 3-10                 (recursive)\n",
       "|    |    └─AvgPool2d: 3-11              --\n",
       "|    |    └─InceptionBlock: 3-12         11,040\n",
       "|    |    └─InceptionBlock: 3-13         13,088\n",
       "|    |    └─AvgPool2d: 3-14              --\n",
       "|    |    └─InceptionBlock: 3-15         4,368\n",
       "|    |    └─InceptionBlock: 3-16         3,344\n",
       "|    |    └─AvgPool2d: 3-17              --\n",
       "|    |    └─InceptionBlock: 3-18         1,128\n",
       "|    |    └─Flatten: 3-19                --\n",
       "|    |    └─Linear: 3-20                 211,528\n",
       "|    |    └─ReLU: 3-21                   --\n",
       "|    |    └─Linear: 3-22                 1,202,312\n",
       "├─ModuleList: 1-4                        --\n",
       "|    └─NormalCell: 2-6                   --\n",
       "|    |    └─LayerNorm: 3-23              (384)\n",
       "|    |    └─Attention: 3-24              (148,032)\n",
       "|    |    └─Identity: 3-25               --\n",
       "|    |    └─LayerNorm: 3-26              (384)\n",
       "|    |    └─Mlp: 3-27                    (295,872)\n",
       "|    |    └─Sequential: 3-28             (8,640)\n",
       "|    └─NormalCell: 2-7                   --\n",
       "|    |    └─LayerNorm: 3-29              (384)\n",
       "|    |    └─Attention: 3-30              (148,032)\n",
       "|    |    └─Identity: 3-31               --\n",
       "|    |    └─LayerNorm: 3-32              (384)\n",
       "|    |    └─Mlp: 3-33                    (295,872)\n",
       "|    |    └─Sequential: 3-34             (8,640)\n",
       "|    └─NormalCell: 2-8                   --\n",
       "|    |    └─LayerNorm: 3-35              (384)\n",
       "|    |    └─Attention: 3-36              (148,032)\n",
       "|    |    └─Identity: 3-37               --\n",
       "|    |    └─LayerNorm: 3-38              (384)\n",
       "|    |    └─Mlp: 3-39                    (295,872)\n",
       "|    |    └─Sequential: 3-40             (8,640)\n",
       "|    └─NormalCell: 2-9                   --\n",
       "|    |    └─LayerNorm: 3-41              (384)\n",
       "|    |    └─Attention: 3-42              (148,032)\n",
       "|    |    └─Identity: 3-43               --\n",
       "|    |    └─LayerNorm: 3-44              (384)\n",
       "|    |    └─Mlp: 3-45                    (295,872)\n",
       "|    |    └─Sequential: 3-46             (8,640)\n",
       "|    └─NormalCell: 2-10                  --\n",
       "|    |    └─LayerNorm: 3-47              (384)\n",
       "|    |    └─Attention: 3-48              (148,032)\n",
       "|    |    └─Identity: 3-49               --\n",
       "|    |    └─LayerNorm: 3-50              (384)\n",
       "|    |    └─Mlp: 3-51                    (295,872)\n",
       "|    |    └─Sequential: 3-52             (8,640)\n",
       "|    └─NormalCell: 2-11                  --\n",
       "|    |    └─LayerNorm: 3-53              (384)\n",
       "|    |    └─Attention: 3-54              (148,032)\n",
       "|    |    └─Identity: 3-55               --\n",
       "|    |    └─LayerNorm: 3-56              (384)\n",
       "|    |    └─Mlp: 3-57                    (295,872)\n",
       "|    |    └─Sequential: 3-58             (8,640)\n",
       "|    └─NormalCell: 2-12                  --\n",
       "|    |    └─LayerNorm: 3-59              (384)\n",
       "|    |    └─Attention: 3-60              (148,032)\n",
       "|    |    └─Identity: 3-61               --\n",
       "|    |    └─LayerNorm: 3-62              (384)\n",
       "|    |    └─Mlp: 3-63                    (295,872)\n",
       "|    |    └─Sequential: 3-64             (8,640)\n",
       "|    └─NormalCell: 2-13                  --\n",
       "|    |    └─LayerNorm: 3-65              (384)\n",
       "|    |    └─Attention: 3-66              (148,032)\n",
       "|    |    └─Identity: 3-67               --\n",
       "|    |    └─LayerNorm: 3-68              (384)\n",
       "|    |    └─Mlp: 3-69                    (295,872)\n",
       "|    |    └─Sequential: 3-70             (8,640)\n",
       "|    └─NormalCell: 2-14                  --\n",
       "|    |    └─LayerNorm: 3-71              (384)\n",
       "|    |    └─Attention: 3-72              (148,032)\n",
       "|    |    └─Identity: 3-73               --\n",
       "|    |    └─LayerNorm: 3-74              (384)\n",
       "|    |    └─Mlp: 3-75                    (295,872)\n",
       "|    |    └─Sequential: 3-76             (8,640)\n",
       "|    └─NormalCell: 2-15                  --\n",
       "|    |    └─LayerNorm: 3-77              (384)\n",
       "|    |    └─Attention: 3-78              (148,032)\n",
       "|    |    └─Identity: 3-79               --\n",
       "|    |    └─LayerNorm: 3-80              (384)\n",
       "|    |    └─Mlp: 3-81                    (295,872)\n",
       "|    |    └─Sequential: 3-82             (8,640)\n",
       "|    └─NormalCell: 2-16                  --\n",
       "|    |    └─LayerNorm: 3-83              (384)\n",
       "|    |    └─Attention: 3-84              (148,032)\n",
       "|    |    └─Identity: 3-85               --\n",
       "|    |    └─LayerNorm: 3-86              (384)\n",
       "|    |    └─Mlp: 3-87                    (295,872)\n",
       "|    |    └─Sequential: 3-88             (8,640)\n",
       "|    └─NormalCell: 2-17                  --\n",
       "|    |    └─LayerNorm: 3-89              (384)\n",
       "|    |    └─Attention: 3-90              (148,032)\n",
       "|    |    └─Identity: 3-91               --\n",
       "|    |    └─LayerNorm: 3-92              (384)\n",
       "|    |    └─Mlp: 3-93                    (295,872)\n",
       "|    |    └─Sequential: 3-94             (8,640)\n",
       "├─PatchEmbed: 1-5                        --\n",
       "|    └─Conv2d: 2-18                      (61,632)\n",
       "|    └─Identity: 2-19                    --\n",
       "├─Sequential: 1-6                        --\n",
       "|    └─Linear: 2-20                      211,528\n",
       "|    └─ReLU: 2-21                        --\n",
       "|    └─Linear: 2-22                      1,202,312\n",
       "├─Sequential: 1-7                        --\n",
       "|    └─Linear: 2-23                      3,294,208\n",
       "|    └─ReLU: 2-24                        --\n",
       "|    └─Linear: 2-25                      1,025\n",
       "=================================================================\n",
       "Total params: 15,899,433\n",
       "Trainable params: 10,398,057\n",
       "Non-trainable params: 5,501,376\n",
       "================================================================="
      ]
     },
     "execution_count": 7,
     "metadata": {},
     "output_type": "execute_result"
    }
   ],
   "source": [
    "from torchsummary import summary\n",
    "\n",
    "summary(cosmic.model)"
   ]
  },
  {
   "cell_type": "markdown",
   "metadata": {},
   "source": [
    "## Run the Model\n",
    "* default data loaded, trying to get a baseline"
   ]
  },
  {
   "cell_type": "code",
   "execution_count": 8,
   "metadata": {},
   "outputs": [
    {
     "data": {
      "text/plain": [
       "{'total_cpu_time': 14.384935184999893,\n",
       " 'total_cpu_memory': 29616.327912,\n",
       " 'execution_time_per_batch': 4.794978394999965,\n",
       " 'num_batches': 3,\n",
       " 'batch_size': 512,\n",
       " 'device': 'cpu',\n",
       " 'throughput_bps': 14299159.318735681}"
      ]
     },
     "execution_count": 8,
     "metadata": {},
     "output_type": "execute_result"
    }
   ],
   "source": [
    "cosmic.run_inference()"
   ]
  },
  {
   "cell_type": "markdown",
   "metadata": {},
   "source": [
    "## Vary the Batch Sizes\n",
    "***\n",
    "\n",
    "### Batch Sizes\n",
    "* `512` is the baseline already run above\n",
    "\n",
    "```yaml\n",
    "small: [8, 16, 32, 64]\n",
    "medium: [128, 256]\n",
    "large: [`512`, 1024, 2048]\n",
    "```"
   ]
  },
  {
   "cell_type": "code",
   "execution_count": 13,
   "metadata": {},
   "outputs": [
    {
     "name": "stdout",
     "output_type": "stream",
     "text": [
      "running - batch 8\n",
      "running - batch 16\n",
      "running - batch 32\n",
      "running - batch 64\n",
      "running - batch 128\n",
      "running - batch 256\n",
      "running - batch 512\n",
      "running - batch 1024\n",
      "running - batch 2048\n"
     ]
    }
   ],
   "source": [
    "batch_report_ = []\n",
    "\n",
    "for n in [8, 16, 32, 64,128, 256, 512, 1024, 2048]:\n",
    "    print(f\"running - batch size - {n}\")\n",
    "    cosmic.set_batch_size(n)\n",
    "    results = cosmic.run_inference()\n",
    "    batch_report_.append(results)\n"
   ]
  },
  {
   "cell_type": "code",
   "execution_count": 34,
   "metadata": {},
   "outputs": [
    {
     "data": {
      "text/html": [
       "<div>\n",
       "<style scoped>\n",
       "    .dataframe tbody tr th:only-of-type {\n",
       "        vertical-align: middle;\n",
       "    }\n",
       "\n",
       "    .dataframe tbody tr th {\n",
       "        vertical-align: top;\n",
       "    }\n",
       "\n",
       "    .dataframe thead th {\n",
       "        text-align: right;\n",
       "    }\n",
       "</style>\n",
       "<table border=\"1\" class=\"dataframe\">\n",
       "  <thead>\n",
       "    <tr style=\"text-align: right;\">\n",
       "      <th></th>\n",
       "      <th>total_cpu_time</th>\n",
       "      <th>total_cpu_memory</th>\n",
       "      <th>execution_time_per_batch</th>\n",
       "      <th>num_batches</th>\n",
       "      <th>batch_size</th>\n",
       "      <th>device</th>\n",
       "      <th>throughput_bps</th>\n",
       "      <th>throughput_mbps</th>\n",
       "    </tr>\n",
       "  </thead>\n",
       "  <tbody>\n",
       "    <tr>\n",
       "      <th>0</th>\n",
       "      <td>28.03</td>\n",
       "      <td>31920.99</td>\n",
       "      <td>0.18</td>\n",
       "      <td>157</td>\n",
       "      <td>8</td>\n",
       "      <td>cpu</td>\n",
       "      <td>7337396.77</td>\n",
       "      <td>7.34</td>\n",
       "    </tr>\n",
       "    <tr>\n",
       "      <th>1</th>\n",
       "      <td>26.95</td>\n",
       "      <td>29317.05</td>\n",
       "      <td>0.34</td>\n",
       "      <td>79</td>\n",
       "      <td>16</td>\n",
       "      <td>cpu</td>\n",
       "      <td>7632346.09</td>\n",
       "      <td>7.63</td>\n",
       "    </tr>\n",
       "    <tr>\n",
       "      <th>2</th>\n",
       "      <td>20.54</td>\n",
       "      <td>29319.14</td>\n",
       "      <td>0.51</td>\n",
       "      <td>40</td>\n",
       "      <td>32</td>\n",
       "      <td>cpu</td>\n",
       "      <td>10013069.58</td>\n",
       "      <td>10.01</td>\n",
       "    </tr>\n",
       "    <tr>\n",
       "      <th>3</th>\n",
       "      <td>17.59</td>\n",
       "      <td>29388.88</td>\n",
       "      <td>0.88</td>\n",
       "      <td>20</td>\n",
       "      <td>64</td>\n",
       "      <td>cpu</td>\n",
       "      <td>11695535.96</td>\n",
       "      <td>11.70</td>\n",
       "    </tr>\n",
       "    <tr>\n",
       "      <th>4</th>\n",
       "      <td>16.33</td>\n",
       "      <td>29490.16</td>\n",
       "      <td>1.63</td>\n",
       "      <td>10</td>\n",
       "      <td>128</td>\n",
       "      <td>cpu</td>\n",
       "      <td>12595033.08</td>\n",
       "      <td>12.60</td>\n",
       "    </tr>\n",
       "    <tr>\n",
       "      <th>5</th>\n",
       "      <td>14.73</td>\n",
       "      <td>29522.15</td>\n",
       "      <td>2.95</td>\n",
       "      <td>5</td>\n",
       "      <td>256</td>\n",
       "      <td>cpu</td>\n",
       "      <td>13959847.83</td>\n",
       "      <td>13.96</td>\n",
       "    </tr>\n",
       "    <tr>\n",
       "      <th>6</th>\n",
       "      <td>14.70</td>\n",
       "      <td>29632.71</td>\n",
       "      <td>4.90</td>\n",
       "      <td>3</td>\n",
       "      <td>512</td>\n",
       "      <td>cpu</td>\n",
       "      <td>13988292.56</td>\n",
       "      <td>13.99</td>\n",
       "    </tr>\n",
       "    <tr>\n",
       "      <th>7</th>\n",
       "      <td>13.40</td>\n",
       "      <td>29661.96</td>\n",
       "      <td>6.70</td>\n",
       "      <td>2</td>\n",
       "      <td>1024</td>\n",
       "      <td>cpu</td>\n",
       "      <td>15345405.14</td>\n",
       "      <td>15.35</td>\n",
       "    </tr>\n",
       "    <tr>\n",
       "      <th>8</th>\n",
       "      <td>12.66</td>\n",
       "      <td>29751.66</td>\n",
       "      <td>12.66</td>\n",
       "      <td>1</td>\n",
       "      <td>2048</td>\n",
       "      <td>cpu</td>\n",
       "      <td>16253763.89</td>\n",
       "      <td>16.25</td>\n",
       "    </tr>\n",
       "  </tbody>\n",
       "</table>\n",
       "</div>"
      ],
      "text/plain": [
       "   total_cpu_time  total_cpu_memory  execution_time_per_batch  num_batches  \\\n",
       "0           28.03          31920.99                      0.18          157   \n",
       "1           26.95          29317.05                      0.34           79   \n",
       "2           20.54          29319.14                      0.51           40   \n",
       "3           17.59          29388.88                      0.88           20   \n",
       "4           16.33          29490.16                      1.63           10   \n",
       "5           14.73          29522.15                      2.95            5   \n",
       "6           14.70          29632.71                      4.90            3   \n",
       "7           13.40          29661.96                      6.70            2   \n",
       "8           12.66          29751.66                     12.66            1   \n",
       "\n",
       "   batch_size device  throughput_bps  throughput_mbps  \n",
       "0           8    cpu      7337396.77             7.34  \n",
       "1          16    cpu      7632346.09             7.63  \n",
       "2          32    cpu     10013069.58            10.01  \n",
       "3          64    cpu     11695535.96            11.70  \n",
       "4         128    cpu     12595033.08            12.60  \n",
       "5         256    cpu     13959847.83            13.96  \n",
       "6         512    cpu     13988292.56            13.99  \n",
       "7        1024    cpu     15345405.14            15.35  \n",
       "8        2048    cpu     16253763.89            16.25  "
      ]
     },
     "execution_count": 34,
     "metadata": {},
     "output_type": "execute_result"
    }
   ],
   "source": [
    "pd.set_option('display.float_format', lambda x: '%.2f' % x) # change scientific notation\n",
    "\n",
    "df_baseline = pd.DataFrame(batch_report_) # input: list of dicts\n",
    "df_baseline = df_baseline.assign(throughput_mbps = df_baseline[\"throughput_bps\"].div(1000000.0)) # bps -> mbps\n",
    "\n",
    "# save out\n",
    "df_baseline.to_csv(\"..//data/interim/baseline_vary_batch.csv\", index=False)\n",
    "\n",
    "# throughput is the rate at which a model processes data\n",
    "# more complex models have a higher through put\n",
    "df_baseline\n",
    "\n"
   ]
  },
  {
   "cell_type": "code",
   "execution_count": 31,
   "metadata": {},
   "outputs": [
    {
     "data": {
      "text/plain": [
       "Text(0.5, 1.0, 'cpu size vs batch size')"
      ]
     },
     "execution_count": 31,
     "metadata": {},
     "output_type": "execute_result"
    },
    {
     "data": {
      "image/png": "[encoded data removed]",
      "text/plain": [
       "<Figure size 1100x800 with 1 Axes>"
      ]
     },
     "metadata": {},
     "output_type": "display_data"
    }
   ],
   "source": [
    "# total cpu size vs batch size\n",
    "sns.lineplot(data=df_baseline, x = \"batch_size\", y = \"total_cpu_time\").set_title(\"CPU TIME vs Batch size\")"
   ]
  },
  {
   "cell_type": "code",
   "execution_count": 35,
   "metadata": {},
   "outputs": [
    {
     "data": {
      "text/plain": [
       "Text(0.5, 1.0, 'CPU TIME vs Batch size')"
      ]
     },
     "execution_count": 35,
     "metadata": {},
     "output_type": "execute_result"
    },
    {
     "data": {
      "image/png": "[encoded data removed]",
      "text/plain": [
       "<Figure size 1100x800 with 1 Axes>"
      ]
     },
     "metadata": {},
     "output_type": "display_data"
    }
   ],
   "source": [
    "# increasing the batch size increases the throughput\n",
    "sns.lineplot(data=df_baseline, x = \"throughput_mbps\", y = \"total_cpu_time\").set_title(\"CPU TIME vs Batch size\")"
   ]
  },
  {
   "cell_type": "markdown",
   "metadata": {},
   "source": [
    "## Try on different sized data"
   ]
  },
  {
   "cell_type": "code",
   "execution_count": null,
   "metadata": {},
   "outputs": [],
   "source": []
  },
  {
   "cell_type": "code",
   "execution_count": 10,
   "metadata": {},
   "outputs": [],
   "source": [
    "# 1) download data \n",
    "    # data should be stored in raw and can't be uploaded\n",
    "\n",
    "# 2) run the model on the data\n",
    "\n",
    "# 3) set parameters for the run and collect them"
   ]
  }
 ],
 "metadata": {
  "kernelspec": {
   "display_name": "PROJECT_venv",
   "language": "python",
   "name": "project_venv"
  },
  "language_info": {
   "codemirror_mode": {
    "name": "ipython",
    "version": 3
   },
   "file_extension": ".py",
   "mimetype": "text/x-python",
   "name": "python",
   "nbconvert_exporter": "python",
   "pygments_lexer": "ipython3",
   "version": "3.11.8"
  }
 },
 "nbformat": 4,
 "nbformat_minor": 2
}
