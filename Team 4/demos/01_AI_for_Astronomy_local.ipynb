{
 "cells": [
  {
   "cell_type": "markdown",
   "metadata": {},
   "source": [
    "# Objective\n",
    "\n",
    "This is to show and compare local runs for the `Ai-for-Astronmy` lab, concerned with\n",
    "* different batch sizes\n",
    "* different data sizes\n",
    "* any starting graphs for a baseline\n",
    "\n",
    "There are different machines on our team, try to show different machine info"
   ]
  },
  {
   "cell_type": "code",
   "execution_count": 6,
   "metadata": {},
   "outputs": [],
   "source": [
    "# !pip install tensorflow\n",
    "\n",
    "# make sure astronomy for ai is updated\n",
    "# !cd ..// && make update_Astronomy_AI"
   ]
  },
  {
   "cell_type": "code",
   "execution_count": 22,
   "metadata": {},
   "outputs": [
    {
     "name": "stdout",
     "output_type": "stream",
     "text": [
      "3.11.8 (v3.11.8:db85d51d3e, Feb  6 2024, 18:02:37) [Clang 13.0.0 (clang-1300.0.29.30)]\n",
      "2.18.0\n"
     ]
    }
   ],
   "source": [
    "import sys\n",
    "\n",
    "from dotenv import dotenv_values\n",
    "import boto3\n",
    "import platform\n",
    "import psutil\n",
    "import tensorflow as tf\n",
    "\n",
    "config = dotenv_values(\"../.env\") \n",
    "\n",
    "print(sys.version)\n",
    "print(tf.__version__)\n"
   ]
  },
  {
   "cell_type": "code",
   "execution_count": 23,
   "metadata": {},
   "outputs": [
    {
     "name": "stdout",
     "output_type": "stream",
     "text": [
      "Darwin\n",
      "arm\n",
      "Total Memory: 48.00 GB\n",
      "Available Memory: 21.59 GB\n",
      "Used Memory: 24.72 GB\n",
      "Free Memory: 0.20 GB\n",
      "[PhysicalDevice(name='/physical_device:CPU:0', device_type='CPU')]\n"
     ]
    }
   ],
   "source": [
    "print(platform.system()) # mac - Darwin\n",
    "print(platform.processor()) # cpu\n",
    "\n",
    "# Get system memory info\n",
    "memory = psutil.virtual_memory()\n",
    "print(f\"Total Memory: {memory.total / (1024 ** 3):.2f} GB\")\n",
    "print(f\"Available Memory: {memory.available / (1024 ** 3):.2f} GB\")\n",
    "print(f\"Used Memory: {memory.used / (1024 ** 3):.2f} GB\")\n",
    "print(f\"Free Memory: {memory.free / (1024 ** 3):.2f} GB\")\n",
    "\n",
    "devices = tf.config.list_physical_devices()\n",
    "print(devices) # only cpu on local\n"
   ]
  },
  {
   "cell_type": "markdown",
   "metadata": {},
   "source": [
    "#"
   ]
  },
  {
   "cell_type": "code",
   "execution_count": 25,
   "metadata": {},
   "outputs": [
    {
     "data": {
      "text/plain": [
       "['aws-athena-query-results-211125778552-us-east-1',\n",
       " 'cosmicai-data',\n",
       " 'cosmicai2',\n",
       " 'fmi-lambda-demo',\n",
       " 'group2-s3-bucket',\n",
       " 'group4-s3-bucket',\n",
       " 'sagemaker-studio-211125778552-3zpozdpwzcx',\n",
       " 'sagemaker-studio-211125778552-rrp76qgcj1n',\n",
       " 'sagemaker-us-east-1-211125778552',\n",
       " 'team-one-cosmic-data',\n",
       " 'team-one-s3-cosmic',\n",
       " 'team2cosmicai',\n",
       " 'team3cosmicai',\n",
       " 'team4-cosmicai']"
      ]
     },
     "execution_count": 25,
     "metadata": {},
     "output_type": "execute_result"
    }
   ],
   "source": [
    "# Initialize a session using aws cred\n",
    "session = boto3.Session(aws_access_key_id=config[\"aws_access_key_id\"],\n",
    "                        aws_secret_access_key=config[\"aws_secret_access_key\"],\n",
    "                        region_name=config[\"region\"])\n",
    "\n",
    "s3 = session.client('s3')\n",
    "\n",
    "d = s3.list_buckets()\n",
    "\n",
    "# show current buckets\n",
    "b = [n[\"Name\"] for n in d[\"Buckets\"]]\n",
    "\n",
    "b"
   ]
  },
  {
   "cell_type": "code",
   "execution_count": null,
   "metadata": {},
   "outputs": [],
   "source": [
    "# 1) download data \n",
    "    # data should be stored in raw and can't be uploaded\n",
    "\n",
    "# 2) run the model on the data\n",
    "\n",
    "# 3) set parameters for the run and collect them"
   ]
  }
 ],
 "metadata": {
  "kernelspec": {
   "display_name": "PROJECT_venv",
   "language": "python",
   "name": "project_venv"
  },
  "language_info": {
   "codemirror_mode": {
    "name": "ipython",
    "version": 3
   },
   "file_extension": ".py",
   "mimetype": "text/x-python",
   "name": "python",
   "nbconvert_exporter": "python",
   "pygments_lexer": "ipython3",
   "version": "3.11.8"
  }
 },
 "nbformat": 4,
 "nbformat_minor": 2
}
